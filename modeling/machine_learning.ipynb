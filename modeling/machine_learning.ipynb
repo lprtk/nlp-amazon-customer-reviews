{
 "cells": [
  {
   "cell_type": "markdown",
   "id": "8c55b930",
   "metadata": {},
   "source": [
    "<strong>\n",
    "    <font color=\"#088A68\">\n",
    "        Author: lprtk\n",
    "    </font>\n",
    "</strong>\n",
    "\n",
    "<br/>\n",
    "<br/>\n",
    "\n",
    "\n",
    "<Center>\n",
    "    <h1 style=\"font-family: Arial\">\n",
    "        <font color=\"#084B8A\">\n",
    "            NLP: sentiment analysis, topic modeling & sentiment prediction\n",
    "        </font>\n",
    "    </h1>\n",
    "    <h3 style=\"font-family: Arial\">\n",
    "        <font color=\"#088A68\">\n",
    "            Notebook 5/5\n",
    "        </font>\n",
    "    </h3>\n",
    "</Center>\n",
    "\n",
    "<br/>\n",
    "\n",
    "<h3 style=\"font-family: Arial\"><font color=\"#088A68\">Paris 1 Panthéon-Sorbonne, M2 MoSEF 2021-2022</font></h3>"
   ]
  },
  {
   "cell_type": "markdown",
   "id": "0fa18847",
   "metadata": {},
   "source": [
    "-------------------------------------------------------------------------------------------------------------------------------"
   ]
  },
  {
   "cell_type": "markdown",
   "id": "e2d722cd",
   "metadata": {},
   "source": [
    "<div style=\"margin: 10px;\">\n",
    "    <h2 style=\"font-family: Arial\">\n",
    "        <font color=\"#084B8A\">\n",
    "            Introduction & context\n",
    "        </font>\n",
    "    </h2>\n",
    "</div>"
   ]
  },
  {
   "cell_type": "markdown",
   "id": "d32db873",
   "metadata": {},
   "source": [
    "<p style=\"text-align: justify\">\n",
    "    This project focuses on extracting information and value from large volumes of textual data using Natural Language Processing (NLP). Why do you want to do this?\n",
    "</p>\n",
    "<ul>\n",
    "    <li><p style=\"text-align: justify\">To improve the customer experience on the website, mobile application or in the office.</p></li>\n",
    "    <li><p style=\"text-align: justify\">Assess customer satisfaction differently.</p></li>\n",
    "    <li><p style=\"text-align: justify\"></p>Evaluate the company's image.</li>\n",
    "    <li><p style=\"text-align: justify\"></p>Be more available and accessible to customers.</li>\n",
    "    <li><p style=\"text-align: justify\"></p>According to the company's activity: find new solutions to improve the banking services offered, evaluate the seller of an online sales platform or improve the product based on customer reviews.</li>\n",
    "</ul>\n",
    "\n",
    "<p style=\"text-align: justify\">\n",
    "    Our application approach is presented in 5 main streams:\n",
    "</p>\n",
    "<ul>\n",
    "    <li>\n",
    "        <u>Step 1:</u> Web Scraping\n",
    "        <ul>\n",
    "            <li>Collect and create the data schema.</li>\n",
    "            <li>Parsing customer reviews to enrich the database: extracting title, description, date, time, nickname and rating.</li>\n",
    "        </ul>\n",
    "    </li>\n",
    "</ul>\n",
    "<ul>\n",
    "    <li>\n",
    "        <u>Step 2:</u> Sentiment Analysis and Scoring\n",
    "        <ul>\n",
    "            <li>Understand and probe the satisfaction of each customer.</li>\n",
    "            <li>Scoring the intensity and polarity of feelings from the review description.</li>\n",
    "        </ul>\n",
    "    </li>\n",
    "</ul>\n",
    "<ul>\n",
    "    <li>\n",
    "        <u>Step 3:</u> Text mining and data cleaning\n",
    "        <ul>\n",
    "            <li>Text cleaning adapted to the sales domain and to the general content of reviews.</li>\n",
    "        </ul>\n",
    "    </li>\n",
    "</ul>\n",
    "<ul>\n",
    "    <li>\n",
    "        <u>Step 4:</u> Topic Modeling (unsupervised learning)\n",
    "        <ul>\n",
    "            <li>To improve availability and speed up response time, reviews can be disassociated and prioritized according to the topic they address.</li>\n",
    "        </ul>\n",
    "    </li>\n",
    "</ul>\n",
    "<ul>\n",
    "    <li>\n",
    "        <u>Step 5:</u> Machine Learning (supervised learning)\n",
    "        <ul>\n",
    "            <li>Without reading future reviews, design a robust model to identify the overall sentiment expressed by the customer.</li>\n",
    "        </ul>\n",
    "    </li>\n",
    "</ul>"
   ]
  },
  {
   "cell_type": "markdown",
   "id": "64ffa898",
   "metadata": {},
   "source": [
    "-------------------------------------------------------------------------------------------------------------------------------"
   ]
  },
  {
   "cell_type": "markdown",
   "id": "17f54470",
   "metadata": {},
   "source": [
    "<div style=\"margin: 10px;\">\n",
    "    <h2 style=\"font-family: Arial\">\n",
    "        <font color=\"#084B8A\">\n",
    "            Librairies import\n",
    "        </font>\n",
    "    </h2>\n",
    "</div>"
   ]
  },
  {
   "cell_type": "code",
   "execution_count": 1,
   "id": "12dcaf7e",
   "metadata": {},
   "outputs": [],
   "source": [
    "from lightgbm import LGBMClassifier\n",
    "import numpy as np\n",
    "import pandas as pd\n",
    "from pyTCTK import TextNet, WordNet\n",
    "from sklearn.ensemble import AdaBoostClassifier, GradientBoostingClassifier, RandomForestClassifier, VotingClassifier\n",
    "from sklearn.feature_extraction.text import TfidfVectorizer\n",
    "from sklearn.linear_model import LogisticRegression\n",
    "from sklearn.metrics import accuracy_score, confusion_matrix, f1_score, fbeta_score, make_scorer, precision_score, recall_score\n",
    "from sklearn.model_selection import GridSearchCV, StratifiedKFold, train_test_split\n",
    "from sklearn.neural_network import MLPClassifier\n",
    "from sklearn.pipeline import Pipeline\n",
    "from sklearn.svm import SVC\n",
    "from sklearn.tree import DecisionTreeClassifier\n",
    "import warnings\n",
    "warnings.filterwarnings(\"ignore\")"
   ]
  },
  {
   "cell_type": "markdown",
   "id": "0c104508",
   "metadata": {},
   "source": [
    "-------------------------------------------------------------------------------------------------------------------------------"
   ]
  },
  {
   "cell_type": "markdown",
   "id": "987ece89",
   "metadata": {},
   "source": [
    "<div style=\"margin: 10px;\">\n",
    "    <h2 style=\"font-family: Arial\">\n",
    "        <font color=\"#084B8A\">\n",
    "            Data import\n",
    "        </font>\n",
    "    </h2>\n",
    "</div>"
   ]
  },
  {
   "cell_type": "code",
   "execution_count": 2,
   "id": "bd552dee",
   "metadata": {},
   "outputs": [],
   "source": [
    "df_data = pd.read_csv(filepath_or_buffer=\"amzn_customer_reviews.csv\", sep=\",\")"
   ]
  },
  {
   "cell_type": "code",
   "execution_count": 3,
   "id": "0f5e8ffe",
   "metadata": {},
   "outputs": [
    {
     "data": {
      "text/html": [
       "<div>\n",
       "<style scoped>\n",
       "    .dataframe tbody tr th:only-of-type {\n",
       "        vertical-align: middle;\n",
       "    }\n",
       "\n",
       "    .dataframe tbody tr th {\n",
       "        vertical-align: top;\n",
       "    }\n",
       "\n",
       "    .dataframe thead th {\n",
       "        text-align: right;\n",
       "    }\n",
       "</style>\n",
       "<table border=\"1\" class=\"dataframe\">\n",
       "  <thead>\n",
       "    <tr style=\"text-align: right;\">\n",
       "      <th></th>\n",
       "      <th>Pseudo</th>\n",
       "      <th>Title</th>\n",
       "      <th>Review</th>\n",
       "      <th>Rating</th>\n",
       "      <th>Verified Purchase</th>\n",
       "      <th>Date</th>\n",
       "      <th>Score</th>\n",
       "      <th>Compound</th>\n",
       "      <th>Sentiment</th>\n",
       "      <th>New rating</th>\n",
       "      <th>New date</th>\n",
       "      <th>Country</th>\n",
       "    </tr>\n",
       "  </thead>\n",
       "  <tbody>\n",
       "    <tr>\n",
       "      <th>0</th>\n",
       "      <td>Assault Kittens</td>\n",
       "      <td>really good option portability</td>\n",
       "      <td>impressive form factor really good balance siz...</td>\n",
       "      <td>4.5 out of 5 stars</td>\n",
       "      <td>Yes</td>\n",
       "      <td>Reviewed in the United States on June 18, 2021</td>\n",
       "      <td>{'neg': 0.014, 'neu': 0.736, 'pos': 0.249, 'co...</td>\n",
       "      <td>0.9941</td>\n",
       "      <td>positive</td>\n",
       "      <td>4.5</td>\n",
       "      <td>2021-06-18</td>\n",
       "      <td>United States</td>\n",
       "    </tr>\n",
       "    <tr>\n",
       "      <th>1</th>\n",
       "      <td>Kenneth Cramer</td>\n",
       "      <td>excellent portable gaming</td>\n",
       "      <td>write review anyone fence purchasing since rea...</td>\n",
       "      <td>5.0 out of 5 stars</td>\n",
       "      <td>Yes</td>\n",
       "      <td>Reviewed in the United States on July 7, 2021</td>\n",
       "      <td>{'neg': 0.016, 'neu': 0.88, 'pos': 0.104, 'com...</td>\n",
       "      <td>0.9921</td>\n",
       "      <td>positive</td>\n",
       "      <td>5.0</td>\n",
       "      <td>2021-07-07</td>\n",
       "      <td>United States</td>\n",
       "    </tr>\n",
       "    <tr>\n",
       "      <th>2</th>\n",
       "      <td>Assault Kittens</td>\n",
       "      <td>best inch world</td>\n",
       "      <td>sell macbook best decisions lifeif used macboo...</td>\n",
       "      <td>1.0 out of 5 stars</td>\n",
       "      <td>Yes</td>\n",
       "      <td>Reviewed in the United States on June 18, 2021</td>\n",
       "      <td>{'neg': 0.0, 'neu': 0.854, 'pos': 0.146, 'comp...</td>\n",
       "      <td>0.8779</td>\n",
       "      <td>positive</td>\n",
       "      <td>1.0</td>\n",
       "      <td>2021-06-18</td>\n",
       "      <td>United States</td>\n",
       "    </tr>\n",
       "  </tbody>\n",
       "</table>\n",
       "</div>"
      ],
      "text/plain": [
       "            Pseudo                           Title  \\\n",
       "0  Assault Kittens  really good option portability   \n",
       "1   Kenneth Cramer       excellent portable gaming   \n",
       "2  Assault Kittens                 best inch world   \n",
       "\n",
       "                                              Review              Rating  \\\n",
       "0  impressive form factor really good balance siz...  4.5 out of 5 stars   \n",
       "1  write review anyone fence purchasing since rea...  5.0 out of 5 stars   \n",
       "2  sell macbook best decisions lifeif used macboo...  1.0 out of 5 stars   \n",
       "\n",
       "  Verified Purchase                                            Date  \\\n",
       "0               Yes  Reviewed in the United States on June 18, 2021   \n",
       "1               Yes   Reviewed in the United States on July 7, 2021   \n",
       "2               Yes  Reviewed in the United States on June 18, 2021   \n",
       "\n",
       "                                               Score  Compound Sentiment  \\\n",
       "0  {'neg': 0.014, 'neu': 0.736, 'pos': 0.249, 'co...    0.9941  positive   \n",
       "1  {'neg': 0.016, 'neu': 0.88, 'pos': 0.104, 'com...    0.9921  positive   \n",
       "2  {'neg': 0.0, 'neu': 0.854, 'pos': 0.146, 'comp...    0.8779  positive   \n",
       "\n",
       "   New rating    New date        Country  \n",
       "0         4.5  2021-06-18  United States  \n",
       "1         5.0  2021-07-07  United States  \n",
       "2         1.0  2021-06-18  United States  "
      ]
     },
     "execution_count": 3,
     "metadata": {},
     "output_type": "execute_result"
    }
   ],
   "source": [
    "df_data.head(3)"
   ]
  },
  {
   "cell_type": "markdown",
   "id": "ade3393a",
   "metadata": {},
   "source": [
    "-------------------------------------------------------------------------------------------------------------------------------"
   ]
  },
  {
   "cell_type": "markdown",
   "id": "36e4e059",
   "metadata": {},
   "source": [
    "<div style=\"margin: 10px;\">\n",
    "    <h2 style=\"font-family: Arial\">\n",
    "        <font color=\"#084B8A\">\n",
    "            Sentiment prediction: supervised learning\n",
    "        </font>\n",
    "    </h2>\n",
    "</div>"
   ]
  },
  {
   "cell_type": "markdown",
   "id": "53f58a55",
   "metadata": {},
   "source": [
    "<div style=\"margin: 10px;\">\n",
    "    <h3 style=\"font-family: Arial\">\n",
    "        <font color=\"#088A68\">\n",
    "            1) Pre-processing\n",
    "        </font>\n",
    "    </h3>\n",
    "</div>"
   ]
  },
  {
   "cell_type": "code",
   "execution_count": 4,
   "id": "4b970fdc",
   "metadata": {},
   "outputs": [],
   "source": [
    "# cross validation method\n",
    "cross_validation = StratifiedKFold(n_splits=3, random_state=42, shuffle=True)\n",
    "\n",
    "# make scorer\n",
    "fthree_scorer = make_scorer(fbeta_score, average=\"macro\", beta=3)"
   ]
  },
  {
   "cell_type": "code",
   "execution_count": 5,
   "id": "79572645",
   "metadata": {},
   "outputs": [],
   "source": [
    "# split train valid test split\n",
    "X = df_data[\"Review\"]\n",
    "y = df_data[\"Sentiment\"]\n",
    "\n",
    "X_train, X_test, y_train, y_test = train_test_split(X, y, test_size=0.25, random_state=42, shuffle=True)"
   ]
  },
  {
   "cell_type": "code",
   "execution_count": 6,
   "id": "249666a4",
   "metadata": {},
   "outputs": [
    {
     "data": {
      "text/plain": [
       "((846,), (283,), (846,), (283,))"
      ]
     },
     "execution_count": 6,
     "metadata": {},
     "output_type": "execute_result"
    }
   ],
   "source": [
    "X_train.shape, X_test.shape, y_train.shape, y_test.shape"
   ]
  },
  {
   "cell_type": "markdown",
   "id": "e97fcbdc",
   "metadata": {},
   "source": [
    "<div style=\"margin: 10px;\">\n",
    "    <h3 style=\"font-family: Arial\">\n",
    "        <font color=\"#088A68\">\n",
    "            2) Vectorization\n",
    "        </font>\n",
    "    </h3>\n",
    "</div>"
   ]
  },
  {
   "cell_type": "code",
   "execution_count": 7,
   "id": "81edf9c8",
   "metadata": {},
   "outputs": [],
   "source": [
    "vectorizer = TfidfVectorizer(\n",
    "    encoding=\"utf-8\",\n",
    "    lowercase=False,\n",
    "    tokenizer=None,\n",
    "    analyzer=\"word\",\n",
    "    stop_words=None,\n",
    "    ngram_range=(1, 2),\n",
    "    min_df=1,\n",
    "    norm=\"l2\",\n",
    "    use_idf=True\n",
    ")\n",
    "\n",
    "X_train = vectorizer.fit_transform(X_train).todense()\n",
    "X_test = vectorizer.transform(X_test).todense()"
   ]
  },
  {
   "cell_type": "code",
   "execution_count": 8,
   "id": "25935500",
   "metadata": {},
   "outputs": [
    {
     "data": {
      "text/plain": [
       "((846, 35424), (283, 35424))"
      ]
     },
     "execution_count": 8,
     "metadata": {},
     "output_type": "execute_result"
    }
   ],
   "source": [
    "X_train.shape, X_test.shape"
   ]
  },
  {
   "cell_type": "code",
   "execution_count": 9,
   "id": "10f266cb",
   "metadata": {},
   "outputs": [
    {
     "name": "stdout",
     "output_type": "stream",
     "text": [
      "-----------------------------------------------------------------\n",
      "Train shape:  (846, 35424)\n",
      "Test shape:  (283, 35424)\n",
      "-----------------------------------------------------------------\n",
      "Originally:\n",
      "positive    0.800709\n",
      "negative    0.137290\n",
      "neutral     0.062002\n",
      "Name: Sentiment, dtype: float64\n",
      "\n",
      "\n",
      "Train:\n",
      "positive    0.797872\n",
      "negative    0.141844\n",
      "neutral     0.060284\n",
      "Name: Sentiment, dtype: float64\n",
      "\n",
      "\n",
      "Test:\n",
      "positive    0.809187\n",
      "negative    0.123675\n",
      "neutral     0.067138\n",
      "Name: Sentiment, dtype: float64\n",
      "-----------------------------------------------------------------\n"
     ]
    }
   ],
   "source": [
    "print(\"-\"*65)\n",
    "print(\"Train shape: \", X_train.shape)\n",
    "print(\"Test shape: \", X_test.shape)\n",
    "print(\"-\"*65)\n",
    "print(\"Originally:\")\n",
    "print(df_data.Sentiment.value_counts(normalize=True))\n",
    "print(\"\\n\")\n",
    "print(\"Train:\")\n",
    "print(y_train.value_counts(normalize=True))\n",
    "print(\"\\n\")\n",
    "print(\"Test:\")\n",
    "print(y_test.value_counts(normalize=True))\n",
    "print(\"-\"*65)"
   ]
  },
  {
   "cell_type": "markdown",
   "id": "a3a99e25",
   "metadata": {},
   "source": [
    "<div style=\"margin: 10px;\">\n",
    "    <h3 style=\"font-family: Arial\">\n",
    "        <font color=\"#088A68\">\n",
    "            3) Models\n",
    "        </font>\n",
    "    </h3>\n",
    "</div>"
   ]
  },
  {
   "cell_type": "markdown",
   "id": "5f6d40d3",
   "metadata": {},
   "source": [
    "<h3 style=\"font-family: Arial\">\n",
    "    <font color=\"#088A68\">\n",
    "        Logistic Regression\n",
    "    </font>\n",
    "</h3>"
   ]
  },
  {
   "cell_type": "code",
   "execution_count": 10,
   "id": "9149c37f",
   "metadata": {},
   "outputs": [],
   "source": [
    "pipeline = Pipeline(\n",
    "    [\n",
    "        (\n",
    "            \"log_clf\",\n",
    "            LogisticRegression(\n",
    "                dual=False,\n",
    "                tol=0.0001,\n",
    "                fit_intercept=True,\n",
    "                intercept_scaling=1,\n",
    "                class_weight=\"balanced\",\n",
    "                random_state=42,\n",
    "                max_iter=100,\n",
    "                multi_class=\"auto\",\n",
    "                verbose=False,\n",
    "                warm_start=False,\n",
    "                n_jobs=-1\n",
    "            )\n",
    "        )\n",
    "    ]\n",
    ")\n",
    "\n",
    "param_grid = {\n",
    "    \"log_clf__C\": [0.001, 0.01, 0.1, 1.0, 10, 100],\n",
    "    \"log_clf__solver\": [\"saga\", \"liblinear\"]\n",
    "}"
   ]
  },
  {
   "cell_type": "code",
   "execution_count": 11,
   "id": "c622a9da",
   "metadata": {
    "scrolled": true
   },
   "outputs": [
    {
     "name": "stdout",
     "output_type": "stream",
     "text": [
      "Fitting 3 folds for each of 12 candidates, totalling 36 fits\n"
     ]
    },
    {
     "name": "stderr",
     "output_type": "stream",
     "text": [
      "[Parallel(n_jobs=-1)]: Using backend LokyBackend with 12 concurrent workers.\n",
      "[Parallel(n_jobs=-1)]: Done  36 out of  36 | elapsed:  2.0min finished\n"
     ]
    },
    {
     "data": {
      "text/plain": [
       "GridSearchCV(cv=StratifiedKFold(n_splits=3, random_state=42, shuffle=True),\n",
       "             estimator=Pipeline(steps=[('log_clf',\n",
       "                                        LogisticRegression(class_weight='balanced',\n",
       "                                                           n_jobs=-1,\n",
       "                                                           random_state=42,\n",
       "                                                           verbose=False))]),\n",
       "             n_jobs=-1,\n",
       "             param_grid={'log_clf__C': [0.001, 0.01, 0.1, 1.0, 10, 100],\n",
       "                         'log_clf__solver': ['saga', 'liblinear']},\n",
       "             scoring=make_scorer(fbeta_score, average=macro, beta=3),\n",
       "             verbose=True)"
      ]
     },
     "execution_count": 11,
     "metadata": {},
     "output_type": "execute_result"
    }
   ],
   "source": [
    "log_grid = GridSearchCV(\n",
    "    estimator=pipeline,\n",
    "    param_grid=param_grid,\n",
    "    cv=cross_validation,\n",
    "    scoring=fthree_scorer,\n",
    "    n_jobs=-1,\n",
    "    verbose=True\n",
    ")\n",
    "\n",
    "log_grid.fit(X_train, np.ravel(y_train))"
   ]
  },
  {
   "cell_type": "code",
   "execution_count": 12,
   "id": "1dea7d7a",
   "metadata": {},
   "outputs": [
    {
     "data": {
      "text/plain": [
       "{'log_clf__C': 1.0, 'log_clf__solver': 'saga'}"
      ]
     },
     "execution_count": 12,
     "metadata": {},
     "output_type": "execute_result"
    }
   ],
   "source": [
    "dict_params = log_grid.best_params_\n",
    "dict_params"
   ]
  },
  {
   "cell_type": "code",
   "execution_count": 13,
   "id": "cc5e7135",
   "metadata": {},
   "outputs": [],
   "source": [
    "log_clf = LogisticRegression(\n",
    "    penalty=\"l2\",\n",
    "    dual=False,\n",
    "    tol=0.0001,\n",
    "    C=dict_params[\"log_clf__C\"],\n",
    "    fit_intercept=True,\n",
    "    intercept_scaling=1,\n",
    "    class_weight=\"balanced\",\n",
    "    random_state=42,\n",
    "    solver=dict_params[\"log_clf__solver\"],\n",
    "    max_iter=100,\n",
    "    multi_class=\"auto\",\n",
    "    verbose=False,\n",
    "    warm_start=False,\n",
    "    n_jobs=-1,\n",
    "    l1_ratio=0\n",
    ")\n",
    "\n",
    "log_clf.fit(X_train, np.ravel(y_train))\n",
    "y_pred = log_clf.predict(X_test)"
   ]
  },
  {
   "cell_type": "code",
   "execution_count": 14,
   "id": "21f2d613",
   "metadata": {},
   "outputs": [
    {
     "data": {
      "text/html": [
       "<div>\n",
       "<style scoped>\n",
       "    .dataframe tbody tr th:only-of-type {\n",
       "        vertical-align: middle;\n",
       "    }\n",
       "\n",
       "    .dataframe tbody tr th {\n",
       "        vertical-align: top;\n",
       "    }\n",
       "\n",
       "    .dataframe thead th {\n",
       "        text-align: right;\n",
       "    }\n",
       "</style>\n",
       "<table border=\"1\" class=\"dataframe\">\n",
       "  <thead>\n",
       "    <tr style=\"text-align: right;\">\n",
       "      <th>Predicted class</th>\n",
       "      <th>negative</th>\n",
       "      <th>neutral</th>\n",
       "      <th>positive</th>\n",
       "    </tr>\n",
       "    <tr>\n",
       "      <th>Real class</th>\n",
       "      <th></th>\n",
       "      <th></th>\n",
       "      <th></th>\n",
       "    </tr>\n",
       "  </thead>\n",
       "  <tbody>\n",
       "    <tr>\n",
       "      <th>negative</th>\n",
       "      <td>13</td>\n",
       "      <td>6</td>\n",
       "      <td>16</td>\n",
       "    </tr>\n",
       "    <tr>\n",
       "      <th>neutral</th>\n",
       "      <td>2</td>\n",
       "      <td>11</td>\n",
       "      <td>6</td>\n",
       "    </tr>\n",
       "    <tr>\n",
       "      <th>positive</th>\n",
       "      <td>5</td>\n",
       "      <td>6</td>\n",
       "      <td>218</td>\n",
       "    </tr>\n",
       "  </tbody>\n",
       "</table>\n",
       "</div>"
      ],
      "text/plain": [
       "Predicted class  negative  neutral  positive\n",
       "Real class                                  \n",
       "negative               13        6        16\n",
       "neutral                 2       11         6\n",
       "positive                5        6       218"
      ]
     },
     "execution_count": 14,
     "metadata": {},
     "output_type": "execute_result"
    }
   ],
   "source": [
    "cm = pd.crosstab(y_test, y_pred, rownames=[\"Real class\"], colnames=[\"Predicted class\"])\n",
    "cm"
   ]
  },
  {
   "cell_type": "code",
   "execution_count": 15,
   "id": "fae817e2",
   "metadata": {},
   "outputs": [],
   "source": [
    "accuracy_log = round(accuracy_score(y_true=y_test, y_pred=y_pred), 4)\n",
    "recall_log = round(recall_score(y_true=y_test, y_pred=y_pred, average=\"macro\"), 4)\n",
    "precision_log = round(precision_score(y_true=y_test, y_pred=y_pred, average=\"macro\"), 4)\n",
    "f1_score_log = round(f1_score(y_true=y_test, y_pred=y_pred, average=\"macro\"), 4)\n",
    "f3_score_log = round(fbeta_score(y_true=y_test, y_pred=y_pred, average=\"macro\", beta=3), 4)"
   ]
  },
  {
   "cell_type": "code",
   "execution_count": 16,
   "id": "f824a68e",
   "metadata": {},
   "outputs": [
    {
     "name": "stdout",
     "output_type": "stream",
     "text": [
      "0.8551\n"
     ]
    }
   ],
   "source": [
    "print(accuracy_log)"
   ]
  },
  {
   "cell_type": "markdown",
   "id": "0c603630",
   "metadata": {},
   "source": [
    "<h3 style=\"font-family: Arial\">\n",
    "    <font color=\"#088A68\">\n",
    "        Random Forest\n",
    "    </font>\n",
    "</h3>"
   ]
  },
  {
   "cell_type": "code",
   "execution_count": 17,
   "id": "ad4edd81",
   "metadata": {},
   "outputs": [],
   "source": [
    "pipeline = Pipeline(\n",
    "    [\n",
    "        (\n",
    "            \"rf_clf\",\n",
    "            RandomForestClassifier(\n",
    "                    min_weight_fraction_leaf=0.0,\n",
    "                    max_leaf_nodes=None,\n",
    "                    min_impurity_decrease=0.0,\n",
    "                    bootstrap=True,\n",
    "                    oob_score=False,\n",
    "                    n_jobs=-1,\n",
    "                    random_state=42,\n",
    "                    verbose=False,\n",
    "                    warm_start=False,\n",
    "                    class_weight=\"balanced\",\n",
    "                    ccp_alpha=0.0,\n",
    "                    max_samples=None\n",
    "            )\n",
    "        )\n",
    "    ]\n",
    ")\n",
    "\n",
    "param_grid = {\n",
    "    \"rf_clf__n_estimators\": [75, 100, 125, 150, 175],\n",
    "    \"rf_clf__criterion\": [\"gini\", \"entropy\"],\n",
    "    \"rf_clf__max_depth\": [7, 12],\n",
    "    \"rf_clf__min_samples_split\": [2, 3],\n",
    "    \"rf_clf__min_samples_leaf\": [1, 3],\n",
    "    \"rf_clf__max_features\": [\"auto\", \"sqrt\"]\n",
    "}"
   ]
  },
  {
   "cell_type": "code",
   "execution_count": 18,
   "id": "469b7ebf",
   "metadata": {},
   "outputs": [
    {
     "name": "stdout",
     "output_type": "stream",
     "text": [
      "Fitting 3 folds for each of 160 candidates, totalling 480 fits\n"
     ]
    },
    {
     "name": "stderr",
     "output_type": "stream",
     "text": [
      "[Parallel(n_jobs=-1)]: Using backend LokyBackend with 12 concurrent workers.\n",
      "[Parallel(n_jobs=-1)]: Done  26 tasks      | elapsed:   12.3s\n",
      "[Parallel(n_jobs=-1)]: Done 176 tasks      | elapsed:  1.4min\n",
      "[Parallel(n_jobs=-1)]: Done 426 tasks      | elapsed:  3.4min\n",
      "[Parallel(n_jobs=-1)]: Done 480 out of 480 | elapsed:  3.9min finished\n"
     ]
    },
    {
     "data": {
      "text/plain": [
       "GridSearchCV(cv=StratifiedKFold(n_splits=3, random_state=42, shuffle=True),\n",
       "             estimator=Pipeline(steps=[('rf_clf',\n",
       "                                        RandomForestClassifier(class_weight='balanced',\n",
       "                                                               n_jobs=-1,\n",
       "                                                               random_state=42,\n",
       "                                                               verbose=False))]),\n",
       "             n_jobs=-1,\n",
       "             param_grid={'rf_clf__criterion': ['gini', 'entropy'],\n",
       "                         'rf_clf__max_depth': [7, 12],\n",
       "                         'rf_clf__max_features': ['auto', 'sqrt'],\n",
       "                         'rf_clf__min_samples_leaf': [1, 3],\n",
       "                         'rf_clf__min_samples_split': [2, 3],\n",
       "                         'rf_clf__n_estimators': [75, 100, 125, 150, 175]},\n",
       "             scoring=make_scorer(fbeta_score, average=macro, beta=3),\n",
       "             verbose=True)"
      ]
     },
     "execution_count": 18,
     "metadata": {},
     "output_type": "execute_result"
    }
   ],
   "source": [
    "rf_grid = GridSearchCV(\n",
    "    estimator=pipeline,\n",
    "    param_grid=param_grid,\n",
    "    cv=cross_validation,\n",
    "    scoring=fthree_scorer,\n",
    "    n_jobs=-1,\n",
    "    verbose=True\n",
    ")\n",
    "\n",
    "rf_grid.fit(X_train, np.ravel(y_train))"
   ]
  },
  {
   "cell_type": "code",
   "execution_count": 19,
   "id": "b21533fd",
   "metadata": {},
   "outputs": [
    {
     "data": {
      "text/plain": [
       "{'rf_clf__criterion': 'gini',\n",
       " 'rf_clf__max_depth': 12,\n",
       " 'rf_clf__max_features': 'auto',\n",
       " 'rf_clf__min_samples_leaf': 3,\n",
       " 'rf_clf__min_samples_split': 2,\n",
       " 'rf_clf__n_estimators': 75}"
      ]
     },
     "execution_count": 19,
     "metadata": {},
     "output_type": "execute_result"
    }
   ],
   "source": [
    "dict_params = rf_grid.best_params_\n",
    "dict_params"
   ]
  },
  {
   "cell_type": "code",
   "execution_count": 20,
   "id": "4bc04e52",
   "metadata": {},
   "outputs": [],
   "source": [
    "rf_clf = RandomForestClassifier(\n",
    "    n_estimators=dict_params[\"rf_clf__n_estimators\"],\n",
    "    criterion=dict_params[\"rf_clf__criterion\"],\n",
    "    max_depth=dict_params[\"rf_clf__max_depth\"],\n",
    "    min_samples_split=dict_params[\"rf_clf__min_samples_split\"],\n",
    "    min_samples_leaf=dict_params[\"rf_clf__min_samples_leaf\"],\n",
    "    min_weight_fraction_leaf=0.0,\n",
    "    max_features=dict_params[\"rf_clf__max_features\"],\n",
    "    max_leaf_nodes=None,\n",
    "    min_impurity_decrease=0.0,\n",
    "    bootstrap=True,\n",
    "    oob_score=False,\n",
    "    n_jobs=-1,\n",
    "    random_state=42,\n",
    "    verbose=False,\n",
    "    warm_start=False,\n",
    "    class_weight=\"balanced\",\n",
    "    ccp_alpha=0.0,\n",
    "    max_samples=None\n",
    ")\n",
    "\n",
    "rf_clf.fit(X_train, np.ravel(y_train))\n",
    "y_pred = rf_clf.predict(X_test)"
   ]
  },
  {
   "cell_type": "code",
   "execution_count": 21,
   "id": "5923a862",
   "metadata": {},
   "outputs": [
    {
     "data": {
      "text/html": [
       "<div>\n",
       "<style scoped>\n",
       "    .dataframe tbody tr th:only-of-type {\n",
       "        vertical-align: middle;\n",
       "    }\n",
       "\n",
       "    .dataframe tbody tr th {\n",
       "        vertical-align: top;\n",
       "    }\n",
       "\n",
       "    .dataframe thead th {\n",
       "        text-align: right;\n",
       "    }\n",
       "</style>\n",
       "<table border=\"1\" class=\"dataframe\">\n",
       "  <thead>\n",
       "    <tr style=\"text-align: right;\">\n",
       "      <th>Predicted class</th>\n",
       "      <th>negative</th>\n",
       "      <th>neutral</th>\n",
       "      <th>positive</th>\n",
       "    </tr>\n",
       "    <tr>\n",
       "      <th>Real class</th>\n",
       "      <th></th>\n",
       "      <th></th>\n",
       "      <th></th>\n",
       "    </tr>\n",
       "  </thead>\n",
       "  <tbody>\n",
       "    <tr>\n",
       "      <th>negative</th>\n",
       "      <td>6</td>\n",
       "      <td>12</td>\n",
       "      <td>17</td>\n",
       "    </tr>\n",
       "    <tr>\n",
       "      <th>neutral</th>\n",
       "      <td>1</td>\n",
       "      <td>18</td>\n",
       "      <td>0</td>\n",
       "    </tr>\n",
       "    <tr>\n",
       "      <th>positive</th>\n",
       "      <td>5</td>\n",
       "      <td>44</td>\n",
       "      <td>180</td>\n",
       "    </tr>\n",
       "  </tbody>\n",
       "</table>\n",
       "</div>"
      ],
      "text/plain": [
       "Predicted class  negative  neutral  positive\n",
       "Real class                                  \n",
       "negative                6       12        17\n",
       "neutral                 1       18         0\n",
       "positive                5       44       180"
      ]
     },
     "execution_count": 21,
     "metadata": {},
     "output_type": "execute_result"
    }
   ],
   "source": [
    "cm = pd.crosstab(y_test, y_pred, rownames=[\"Real class\"], colnames=[\"Predicted class\"])\n",
    "cm"
   ]
  },
  {
   "cell_type": "code",
   "execution_count": 22,
   "id": "d554d7e6",
   "metadata": {},
   "outputs": [],
   "source": [
    "accuracy_rf = round(accuracy_score(y_true=y_test, y_pred=y_pred), 4)\n",
    "recall_rf = round(recall_score(y_true=y_test, y_pred=y_pred, average=\"macro\"), 4)\n",
    "precision_rf = round(precision_score(y_true=y_test, y_pred=y_pred, average=\"macro\"), 4)\n",
    "f1_score_rf = round(f1_score(y_true=y_test, y_pred=y_pred, average=\"macro\"), 4)\n",
    "f3_score_rf = round(fbeta_score(y_true=y_test, y_pred=y_pred, average=\"macro\", beta=3), 4)"
   ]
  },
  {
   "cell_type": "markdown",
   "id": "dd72a757",
   "metadata": {},
   "source": [
    "<h3 style=\"font-family: Arial\">\n",
    "    <font color=\"#088A68\">\n",
    "        Adaboost\n",
    "    </font>\n",
    "</h3>"
   ]
  },
  {
   "cell_type": "code",
   "execution_count": 23,
   "id": "b9566ec5",
   "metadata": {},
   "outputs": [],
   "source": [
    "pipeline = Pipeline(\n",
    "    [\n",
    "        (\n",
    "            \"dtc_clf\",\n",
    "            DecisionTreeClassifier(\n",
    "                min_weight_fraction_leaf=0.0,\n",
    "                random_state=42,\n",
    "                max_leaf_nodes=None,\n",
    "                min_impurity_decrease=0.0,\n",
    "                class_weight=\"balanced\",\n",
    "                ccp_alpha=0.0\n",
    "            )\n",
    "        )\n",
    "    ]\n",
    ")\n",
    "\n",
    "param_grid = {\n",
    "    \"dtc_clf__criterion\": [\"gini\", \"entropy\"],\n",
    "    \"dtc_clf__splitter\": [\"best\", \"random\"],\n",
    "    \"dtc_clf__max_depth\": [7, 12],\n",
    "    \"dtc_clf__min_samples_split\": [2, 3],\n",
    "    \"dtc_clf__min_samples_leaf\": [1, 3],\n",
    "    \"dtc_clf__max_features\": [75, 100, 125, 150, 175],\n",
    "}"
   ]
  },
  {
   "cell_type": "code",
   "execution_count": 24,
   "id": "7c6e67c9",
   "metadata": {},
   "outputs": [
    {
     "name": "stdout",
     "output_type": "stream",
     "text": [
      "Fitting 3 folds for each of 160 candidates, totalling 480 fits\n"
     ]
    },
    {
     "name": "stderr",
     "output_type": "stream",
     "text": [
      "[Parallel(n_jobs=-1)]: Using backend LokyBackend with 12 concurrent workers.\n",
      "[Parallel(n_jobs=-1)]: Done  26 tasks      | elapsed:    7.5s\n",
      "[Parallel(n_jobs=-1)]: Done 176 tasks      | elapsed:   50.2s\n",
      "[Parallel(n_jobs=-1)]: Done 426 tasks      | elapsed:  2.0min\n",
      "[Parallel(n_jobs=-1)]: Done 480 out of 480 | elapsed:  2.3min finished\n"
     ]
    },
    {
     "data": {
      "text/plain": [
       "GridSearchCV(cv=StratifiedKFold(n_splits=3, random_state=42, shuffle=True),\n",
       "             estimator=Pipeline(steps=[('dtc_clf',\n",
       "                                        DecisionTreeClassifier(class_weight='balanced',\n",
       "                                                               random_state=42))]),\n",
       "             n_jobs=-1,\n",
       "             param_grid={'dtc_clf__criterion': ['gini', 'entropy'],\n",
       "                         'dtc_clf__max_depth': [7, 12],\n",
       "                         'dtc_clf__max_features': [75, 100, 125, 150, 175],\n",
       "                         'dtc_clf__min_samples_leaf': [1, 3],\n",
       "                         'dtc_clf__min_samples_split': [2, 3],\n",
       "                         'dtc_clf__splitter': ['best', 'random']},\n",
       "             scoring=make_scorer(fbeta_score, average=macro, beta=3),\n",
       "             verbose=True)"
      ]
     },
     "execution_count": 24,
     "metadata": {},
     "output_type": "execute_result"
    }
   ],
   "source": [
    "dtc_grid = GridSearchCV(\n",
    "    estimator=pipeline,\n",
    "    param_grid=param_grid,\n",
    "    cv=cross_validation,\n",
    "    scoring=fthree_scorer,\n",
    "    n_jobs=-1,\n",
    "    verbose=True\n",
    ")\n",
    "\n",
    "dtc_grid.fit(X_train, np.ravel(y_train))"
   ]
  },
  {
   "cell_type": "code",
   "execution_count": 25,
   "id": "9f37f1e6",
   "metadata": {},
   "outputs": [
    {
     "data": {
      "text/plain": [
       "{'dtc_clf__criterion': 'entropy',\n",
       " 'dtc_clf__max_depth': 12,\n",
       " 'dtc_clf__max_features': 100,\n",
       " 'dtc_clf__min_samples_leaf': 3,\n",
       " 'dtc_clf__min_samples_split': 2,\n",
       " 'dtc_clf__splitter': 'best'}"
      ]
     },
     "execution_count": 25,
     "metadata": {},
     "output_type": "execute_result"
    }
   ],
   "source": [
    "dict_params_dtc = dtc_grid.best_params_\n",
    "dict_params_dtc"
   ]
  },
  {
   "cell_type": "code",
   "execution_count": 26,
   "id": "f6d381c4",
   "metadata": {},
   "outputs": [],
   "source": [
    "pipeline = Pipeline(\n",
    "    [\n",
    "        (\n",
    "            \"adab_clf\",\n",
    "            AdaBoostClassifier(\n",
    "                base_estimator=DecisionTreeClassifier(\n",
    "                    criterion=dict_params_dtc[\"dtc_clf__criterion\"],\n",
    "                    splitter=dict_params_dtc[\"dtc_clf__splitter\"],\n",
    "                    max_depth=dict_params_dtc[\"dtc_clf__max_depth\"],\n",
    "                    min_samples_split=dict_params_dtc[\"dtc_clf__min_samples_split\"],\n",
    "                    min_samples_leaf=dict_params_dtc[\"dtc_clf__min_samples_leaf\"],\n",
    "                    min_weight_fraction_leaf=0.0,\n",
    "                    max_features=dict_params_dtc[\"dtc_clf__max_features\"],\n",
    "                    random_state=42,\n",
    "                    max_leaf_nodes=None,\n",
    "                    min_impurity_decrease=0.0,\n",
    "                    class_weight=\"balanced\",\n",
    "                    ccp_alpha=0.0\n",
    "                ),\n",
    "                algorithm=\"SAMME.R\",\n",
    "                random_state=42\n",
    "            )\n",
    "        )\n",
    "    ]\n",
    ")\n",
    "\n",
    "param_grid = {\n",
    "    \"adab_clf__n_estimators\": [75, 100, 125, 150, 175],\n",
    "    \"adab_clf__learning_rate\": [0.001, 0.01, 0.1, 1.0]\n",
    "}"
   ]
  },
  {
   "cell_type": "code",
   "execution_count": 27,
   "id": "72b7fbaf",
   "metadata": {},
   "outputs": [
    {
     "name": "stderr",
     "output_type": "stream",
     "text": [
      "[Parallel(n_jobs=-1)]: Using backend LokyBackend with 12 concurrent workers.\n"
     ]
    },
    {
     "name": "stdout",
     "output_type": "stream",
     "text": [
      "Fitting 3 folds for each of 20 candidates, totalling 60 fits\n"
     ]
    },
    {
     "name": "stderr",
     "output_type": "stream",
     "text": [
      "[Parallel(n_jobs=-1)]: Done  26 tasks      | elapsed:  2.4min\n",
      "[Parallel(n_jobs=-1)]: Done  60 out of  60 | elapsed:  4.9min finished\n"
     ]
    },
    {
     "data": {
      "text/plain": [
       "GridSearchCV(cv=StratifiedKFold(n_splits=3, random_state=42, shuffle=True),\n",
       "             estimator=Pipeline(steps=[('adab_clf',\n",
       "                                        AdaBoostClassifier(base_estimator=DecisionTreeClassifier(class_weight='balanced',\n",
       "                                                                                                 criterion='entropy',\n",
       "                                                                                                 max_depth=12,\n",
       "                                                                                                 max_features=100,\n",
       "                                                                                                 min_samples_leaf=3,\n",
       "                                                                                                 random_state=42),\n",
       "                                                           random_state=42))]),\n",
       "             n_jobs=-1,\n",
       "             param_grid={'adab_clf__learning_rate': [0.001, 0.01, 0.1, 1.0],\n",
       "                         'adab_clf__n_estimators': [75, 100, 125, 150, 175]},\n",
       "             scoring=make_scorer(fbeta_score, average=macro, beta=3),\n",
       "             verbose=True)"
      ]
     },
     "execution_count": 27,
     "metadata": {},
     "output_type": "execute_result"
    }
   ],
   "source": [
    "dtc_grid = GridSearchCV(\n",
    "    estimator=pipeline,\n",
    "    param_grid=param_grid,\n",
    "    cv=cross_validation,\n",
    "    scoring=fthree_scorer,\n",
    "    n_jobs=-1,\n",
    "    verbose=True\n",
    ")\n",
    "\n",
    "dtc_grid.fit(X_train, np.ravel(y_train))"
   ]
  },
  {
   "cell_type": "code",
   "execution_count": 28,
   "id": "65fbe18e",
   "metadata": {},
   "outputs": [
    {
     "data": {
      "text/plain": [
       "{'adab_clf__learning_rate': 0.01, 'adab_clf__n_estimators': 125}"
      ]
     },
     "execution_count": 28,
     "metadata": {},
     "output_type": "execute_result"
    }
   ],
   "source": [
    "dict_params_adab = dtc_grid.best_params_\n",
    "dict_params_adab"
   ]
  },
  {
   "cell_type": "code",
   "execution_count": 29,
   "id": "26d86f13",
   "metadata": {},
   "outputs": [],
   "source": [
    "adab_clf = AdaBoostClassifier(\n",
    "    base_estimator=DecisionTreeClassifier(\n",
    "        criterion=dict_params_dtc[\"dtc_clf__criterion\"],\n",
    "        splitter=dict_params_dtc[\"dtc_clf__splitter\"],\n",
    "        max_depth=dict_params_dtc[\"dtc_clf__max_depth\"],\n",
    "        min_samples_split=dict_params_dtc[\"dtc_clf__min_samples_split\"],\n",
    "        min_samples_leaf=dict_params_dtc[\"dtc_clf__min_samples_leaf\"],\n",
    "        min_weight_fraction_leaf=0.0,\n",
    "        max_features=dict_params_dtc[\"dtc_clf__max_features\"],\n",
    "        random_state=42,\n",
    "        max_leaf_nodes=None,\n",
    "        min_impurity_decrease=0.0,\n",
    "        class_weight=\"balanced\",\n",
    "        ccp_alpha=0.0\n",
    "    ),\n",
    "    n_estimators=dict_params_adab[\"adab_clf__n_estimators\"],\n",
    "    learning_rate=dict_params_adab[\"adab_clf__learning_rate\"],\n",
    "    algorithm=\"SAMME.R\",\n",
    "    random_state=42\n",
    ")\n",
    "\n",
    "adab_clf.fit(X_train, np.ravel(y_train))\n",
    "y_pred = adab_clf.predict(X_test)"
   ]
  },
  {
   "cell_type": "code",
   "execution_count": 30,
   "id": "c11bb053",
   "metadata": {},
   "outputs": [
    {
     "data": {
      "text/html": [
       "<div>\n",
       "<style scoped>\n",
       "    .dataframe tbody tr th:only-of-type {\n",
       "        vertical-align: middle;\n",
       "    }\n",
       "\n",
       "    .dataframe tbody tr th {\n",
       "        vertical-align: top;\n",
       "    }\n",
       "\n",
       "    .dataframe thead th {\n",
       "        text-align: right;\n",
       "    }\n",
       "</style>\n",
       "<table border=\"1\" class=\"dataframe\">\n",
       "  <thead>\n",
       "    <tr style=\"text-align: right;\">\n",
       "      <th>Predicted class</th>\n",
       "      <th>negative</th>\n",
       "      <th>neutral</th>\n",
       "      <th>positive</th>\n",
       "    </tr>\n",
       "    <tr>\n",
       "      <th>Real class</th>\n",
       "      <th></th>\n",
       "      <th></th>\n",
       "      <th></th>\n",
       "    </tr>\n",
       "  </thead>\n",
       "  <tbody>\n",
       "    <tr>\n",
       "      <th>negative</th>\n",
       "      <td>11</td>\n",
       "      <td>2</td>\n",
       "      <td>22</td>\n",
       "    </tr>\n",
       "    <tr>\n",
       "      <th>neutral</th>\n",
       "      <td>3</td>\n",
       "      <td>12</td>\n",
       "      <td>4</td>\n",
       "    </tr>\n",
       "    <tr>\n",
       "      <th>positive</th>\n",
       "      <td>8</td>\n",
       "      <td>6</td>\n",
       "      <td>215</td>\n",
       "    </tr>\n",
       "  </tbody>\n",
       "</table>\n",
       "</div>"
      ],
      "text/plain": [
       "Predicted class  negative  neutral  positive\n",
       "Real class                                  \n",
       "negative               11        2        22\n",
       "neutral                 3       12         4\n",
       "positive                8        6       215"
      ]
     },
     "execution_count": 30,
     "metadata": {},
     "output_type": "execute_result"
    }
   ],
   "source": [
    "cm = pd.crosstab(y_test, y_pred, rownames=[\"Real class\"], colnames=[\"Predicted class\"])\n",
    "cm"
   ]
  },
  {
   "cell_type": "code",
   "execution_count": 31,
   "id": "3ac16d25",
   "metadata": {},
   "outputs": [],
   "source": [
    "accuracy_adab = round(accuracy_score(y_true=y_test, y_pred=y_pred), 4)\n",
    "recall_adab = round(recall_score(y_true=y_test, y_pred=y_pred, average=\"macro\"), 4)\n",
    "precision_adab = round(precision_score(y_true=y_test, y_pred=y_pred, average=\"macro\"), 4)\n",
    "f1_score_adab = round(f1_score(y_true=y_test, y_pred=y_pred, average=\"macro\"), 4)\n",
    "f3_score_adab = round(fbeta_score(y_true=y_test, y_pred=y_pred, average=\"macro\", beta=3), 4)"
   ]
  },
  {
   "cell_type": "markdown",
   "id": "4d5a379e",
   "metadata": {},
   "source": [
    "<h3 style=\"font-family: Arial\">\n",
    "    <font color=\"#088A68\">\n",
    "        Support Vector Machine\n",
    "    </font>\n",
    "</h3>"
   ]
  },
  {
   "cell_type": "code",
   "execution_count": 32,
   "id": "e1cf63d6",
   "metadata": {},
   "outputs": [],
   "source": [
    "pipeline = Pipeline(\n",
    "    [\n",
    "        (\n",
    "            \"svc_clf\",\n",
    "            SVC(\n",
    "                degree=3,\n",
    "                gamma=\"auto\",\n",
    "                coef0=0.0,\n",
    "                shrinking=True,\n",
    "                probability=False,\n",
    "                tol=0.001,\n",
    "                cache_size=200,\n",
    "                class_weight=\"balanced\",\n",
    "                verbose=False,\n",
    "                max_iter=-1,\n",
    "                decision_function_shape=\"ovr\",\n",
    "                break_ties=False,\n",
    "                random_state=42\n",
    "            )\n",
    "        )\n",
    "    ]\n",
    ")\n",
    "\n",
    "param_grid = {\n",
    "    \"svc_clf__C\": [0.001, 0.01, 0.1, 1.0, 10, 100],\n",
    "    \"svc_clf__kernel\": [\"linear\", \"rbf\", \"sigmoid\"]\n",
    "}"
   ]
  },
  {
   "cell_type": "code",
   "execution_count": 33,
   "id": "54b077cc",
   "metadata": {
    "scrolled": true
   },
   "outputs": [
    {
     "name": "stdout",
     "output_type": "stream",
     "text": [
      "Fitting 3 folds for each of 18 candidates, totalling 54 fits\n"
     ]
    },
    {
     "name": "stderr",
     "output_type": "stream",
     "text": [
      "[Parallel(n_jobs=-1)]: Using backend LokyBackend with 12 concurrent workers.\n",
      "[Parallel(n_jobs=-1)]: Done  26 tasks      | elapsed:  2.8min\n",
      "[Parallel(n_jobs=-1)]: Done  54 out of  54 | elapsed:  4.3min finished\n"
     ]
    },
    {
     "data": {
      "text/plain": [
       "GridSearchCV(cv=StratifiedKFold(n_splits=3, random_state=42, shuffle=True),\n",
       "             estimator=Pipeline(steps=[('svc_clf',\n",
       "                                        SVC(class_weight='balanced',\n",
       "                                            gamma='auto', random_state=42))]),\n",
       "             n_jobs=-1,\n",
       "             param_grid={'svc_clf__C': [0.001, 0.01, 0.1, 1.0, 10, 100],\n",
       "                         'svc_clf__kernel': ['linear', 'rbf', 'sigmoid']},\n",
       "             scoring=make_scorer(fbeta_score, average=macro, beta=3),\n",
       "             verbose=True)"
      ]
     },
     "execution_count": 33,
     "metadata": {},
     "output_type": "execute_result"
    }
   ],
   "source": [
    "svc_grid = GridSearchCV(\n",
    "    estimator=pipeline,\n",
    "    param_grid=param_grid,\n",
    "    cv=cross_validation,\n",
    "    scoring=fthree_scorer,\n",
    "    n_jobs=-1,\n",
    "    verbose=True\n",
    ")\n",
    "\n",
    "svc_grid.fit(X_train, np.ravel(y_train))"
   ]
  },
  {
   "cell_type": "code",
   "execution_count": 34,
   "id": "0dec6e0e",
   "metadata": {},
   "outputs": [
    {
     "data": {
      "text/plain": [
       "{'svc_clf__C': 1.0, 'svc_clf__kernel': 'linear'}"
      ]
     },
     "execution_count": 34,
     "metadata": {},
     "output_type": "execute_result"
    }
   ],
   "source": [
    "dict_params = svc_grid.best_params_\n",
    "dict_params"
   ]
  },
  {
   "cell_type": "code",
   "execution_count": 35,
   "id": "930c1676",
   "metadata": {},
   "outputs": [],
   "source": [
    "svc_clf = SVC(\n",
    "    C=dict_params[\"svc_clf__C\"],\n",
    "    kernel=dict_params[\"svc_clf__kernel\"],\n",
    "    degree=3,\n",
    "    gamma=\"auto\",\n",
    "    coef0=0.0,\n",
    "    shrinking=True,\n",
    "    probability=False,\n",
    "    tol=0.001,\n",
    "    cache_size=200,\n",
    "    class_weight=\"balanced\",\n",
    "    verbose=False,\n",
    "    max_iter=-1,\n",
    "    decision_function_shape=\"ovr\",\n",
    "    break_ties=False,\n",
    "    random_state=42\n",
    ")\n",
    "\n",
    "svc_clf.fit(X_train, np.ravel(y_train))\n",
    "y_pred = svc_clf.predict(X_test)"
   ]
  },
  {
   "cell_type": "code",
   "execution_count": 36,
   "id": "f58a5fc8",
   "metadata": {},
   "outputs": [
    {
     "data": {
      "text/html": [
       "<div>\n",
       "<style scoped>\n",
       "    .dataframe tbody tr th:only-of-type {\n",
       "        vertical-align: middle;\n",
       "    }\n",
       "\n",
       "    .dataframe tbody tr th {\n",
       "        vertical-align: top;\n",
       "    }\n",
       "\n",
       "    .dataframe thead th {\n",
       "        text-align: right;\n",
       "    }\n",
       "</style>\n",
       "<table border=\"1\" class=\"dataframe\">\n",
       "  <thead>\n",
       "    <tr style=\"text-align: right;\">\n",
       "      <th>Predicted class</th>\n",
       "      <th>negative</th>\n",
       "      <th>neutral</th>\n",
       "      <th>positive</th>\n",
       "    </tr>\n",
       "    <tr>\n",
       "      <th>Real class</th>\n",
       "      <th></th>\n",
       "      <th></th>\n",
       "      <th></th>\n",
       "    </tr>\n",
       "  </thead>\n",
       "  <tbody>\n",
       "    <tr>\n",
       "      <th>negative</th>\n",
       "      <td>9</td>\n",
       "      <td>2</td>\n",
       "      <td>24</td>\n",
       "    </tr>\n",
       "    <tr>\n",
       "      <th>neutral</th>\n",
       "      <td>3</td>\n",
       "      <td>4</td>\n",
       "      <td>12</td>\n",
       "    </tr>\n",
       "    <tr>\n",
       "      <th>positive</th>\n",
       "      <td>3</td>\n",
       "      <td>0</td>\n",
       "      <td>226</td>\n",
       "    </tr>\n",
       "  </tbody>\n",
       "</table>\n",
       "</div>"
      ],
      "text/plain": [
       "Predicted class  negative  neutral  positive\n",
       "Real class                                  \n",
       "negative                9        2        24\n",
       "neutral                 3        4        12\n",
       "positive                3        0       226"
      ]
     },
     "execution_count": 36,
     "metadata": {},
     "output_type": "execute_result"
    }
   ],
   "source": [
    "cm = pd.crosstab(y_test, y_pred, rownames=[\"Real class\"], colnames=[\"Predicted class\"])\n",
    "cm"
   ]
  },
  {
   "cell_type": "code",
   "execution_count": 37,
   "id": "4c7e26af",
   "metadata": {},
   "outputs": [],
   "source": [
    "accuracy_svc = round(accuracy_score(y_true=y_test, y_pred=y_pred), 4)\n",
    "recall_svc = round(recall_score(y_true=y_test, y_pred=y_pred, average=\"macro\"), 4)\n",
    "precision_svc = round(precision_score(y_true=y_test, y_pred=y_pred, average=\"macro\"), 4)\n",
    "f1_score_svc = round(f1_score(y_true=y_test, y_pred=y_pred, average=\"macro\"), 4)\n",
    "f3_score_svc = round(fbeta_score(y_true=y_test, y_pred=y_pred, average=\"macro\", beta=3), 4)"
   ]
  },
  {
   "cell_type": "markdown",
   "id": "0f2aaa57",
   "metadata": {},
   "source": [
    "<h3 style=\"font-family: Arial\">\n",
    "    <font color=\"#088A68\">\n",
    "        LightGBM\n",
    "    </font>\n",
    "</h3>"
   ]
  },
  {
   "cell_type": "code",
   "execution_count": 38,
   "id": "a3abe44c",
   "metadata": {},
   "outputs": [],
   "source": [
    "pipeline = Pipeline(\n",
    "    [\n",
    "        (\n",
    "            \"lgbm_clf\",\n",
    "            LGBMClassifier(\n",
    "                    boosting_type=\"gbdt\",\n",
    "                    subsample_for_bin=200000,\n",
    "                    objective=None,\n",
    "                    class_weight=\"balanced\",\n",
    "                    min_split_gain=0.0,\n",
    "                    min_child_weight=0.001,\n",
    "                    min_child_sample=20,\n",
    "                    subsample=1.0,\n",
    "                    subsample_freq=0,\n",
    "                    colsample_bytree=1.0,\n",
    "                    reg_alpha=0.001,\n",
    "                    reg_lambda=0.0,\n",
    "                    random_state=42,\n",
    "                    n_jobs=-1,\n",
    "                    importance_type=\"split\"\n",
    "            )\n",
    "        )\n",
    "    ]\n",
    ")\n",
    "\n",
    "param_grid = {\n",
    "    #\"lgbm_clf__boosting_type\": [\"gbdt\", \"dart\"],\n",
    "    \"lgbm_clf__num_leaves\": [5, 10, 30, 50],\n",
    "    \"lgbm_clf__max_depth\": [3, 7, 12],\n",
    "    \"lgbm_clf__learning_rate\": [0.001, 0.01, 0.1, 1.0, 10, 100],\n",
    "    \"lgbm_clf__n_estimators\": [50, 100, 300, 500, 1000],\n",
    "    #\"lgbm_clf__min_child_weight\": [0.001, 1.0, 300],\n",
    "    #\"lgbm_clf__subsample\": [0.7, 1.0],\n",
    "    #\"lgbm_clf__colsample_bytree\": [0.7, 1.0],\n",
    "    #\"lgbm_clf__reg_alpha\": [0.001, 0.01, 0.1, 1.0, 10, 100],\n",
    "    #\"lgbm_clf__reg_lambda\": [0.001, 0.01, 0.1, 1.0, 10, 100]\n",
    "}"
   ]
  },
  {
   "cell_type": "code",
   "execution_count": 39,
   "id": "0c6700bf",
   "metadata": {},
   "outputs": [
    {
     "name": "stdout",
     "output_type": "stream",
     "text": [
      "Fitting 3 folds for each of 360 candidates, totalling 1080 fits\n"
     ]
    },
    {
     "name": "stderr",
     "output_type": "stream",
     "text": [
      "[Parallel(n_jobs=-1)]: Using backend LokyBackend with 12 concurrent workers.\n",
      "[Parallel(n_jobs=-1)]: Done  26 tasks      | elapsed:    8.7s\n",
      "[Parallel(n_jobs=-1)]: Done 176 tasks      | elapsed:   54.9s\n",
      "[Parallel(n_jobs=-1)]: Done 426 tasks      | elapsed:  2.1min\n",
      "[Parallel(n_jobs=-1)]: Done 776 tasks      | elapsed:  3.8min\n",
      "[Parallel(n_jobs=-1)]: Done 1080 out of 1080 | elapsed:  5.3min finished\n"
     ]
    },
    {
     "name": "stdout",
     "output_type": "stream",
     "text": [
      "[LightGBM] [Warning] Unknown parameter: min_child_sample\n"
     ]
    },
    {
     "data": {
      "text/plain": [
       "GridSearchCV(cv=StratifiedKFold(n_splits=3, random_state=42, shuffle=True),\n",
       "             estimator=Pipeline(steps=[('lgbm_clf',\n",
       "                                        LGBMClassifier(class_weight='balanced',\n",
       "                                                       min_child_sample=20,\n",
       "                                                       random_state=42,\n",
       "                                                       reg_alpha=0.001))]),\n",
       "             n_jobs=-1,\n",
       "             param_grid={'lgbm_clf__learning_rate': [0.001, 0.01, 0.1, 1.0, 10,\n",
       "                                                     100],\n",
       "                         'lgbm_clf__max_depth': [3, 7, 12],\n",
       "                         'lgbm_clf__n_estimators': [50, 100, 300, 500, 1000],\n",
       "                         'lgbm_clf__num_leaves': [5, 10, 30, 50]},\n",
       "             scoring=make_scorer(fbeta_score, average=macro, beta=3),\n",
       "             verbose=True)"
      ]
     },
     "execution_count": 39,
     "metadata": {},
     "output_type": "execute_result"
    }
   ],
   "source": [
    "lgbm_grid = GridSearchCV(\n",
    "    estimator=pipeline,\n",
    "    param_grid=param_grid,\n",
    "    cv=cross_validation,\n",
    "    scoring=fthree_scorer,\n",
    "    n_jobs=-1,\n",
    "    verbose=True\n",
    ")\n",
    "\n",
    "lgbm_grid.fit(X_train, np.ravel(y_train))"
   ]
  },
  {
   "cell_type": "code",
   "execution_count": 40,
   "id": "b1fc703c",
   "metadata": {},
   "outputs": [
    {
     "data": {
      "text/plain": [
       "{'lgbm_clf__learning_rate': 0.1,\n",
       " 'lgbm_clf__max_depth': 7,\n",
       " 'lgbm_clf__n_estimators': 300,\n",
       " 'lgbm_clf__num_leaves': 10}"
      ]
     },
     "execution_count": 40,
     "metadata": {},
     "output_type": "execute_result"
    }
   ],
   "source": [
    "dict_params = lgbm_grid.best_params_\n",
    "dict_params"
   ]
  },
  {
   "cell_type": "code",
   "execution_count": 41,
   "id": "e1f2b6a4",
   "metadata": {},
   "outputs": [],
   "source": [
    "lgbm_clf = LGBMClassifier(\n",
    "    boosting_type=\"gbdt\",\n",
    "    num_leaves=dict_params[\"lgbm_clf__num_leaves\"],\n",
    "    max_depth=dict_params[\"lgbm_clf__max_depth\"],\n",
    "    learning_rate=dict_params[\"lgbm_clf__learning_rate\"],\n",
    "    n_estimators=dict_params[\"lgbm_clf__n_estimators\"],\n",
    "    subsample_for_bin=200000,\n",
    "    objective=None,\n",
    "    class_weight=\"balanced\",\n",
    "    min_split_gain=0.0,\n",
    "    min_child_weight=0.001,\n",
    "    min_child_sample=20,\n",
    "    subsample=1.0,\n",
    "    subsample_freq=0,\n",
    "    colsample_bytree=1.0,\n",
    "    reg_alpha=0.001,\n",
    "    reg_lambda=0.0,\n",
    "    random_state=42,\n",
    "    n_jobs=-1,\n",
    "    importance_type=\"split\"\n",
    ")\n",
    "\n",
    "lgbm_clf.fit(X_train, np.ravel(y_train))\n",
    "y_pred = lgbm_clf.predict(X_test)"
   ]
  },
  {
   "cell_type": "code",
   "execution_count": 42,
   "id": "4aed50cb",
   "metadata": {},
   "outputs": [
    {
     "data": {
      "text/html": [
       "<div>\n",
       "<style scoped>\n",
       "    .dataframe tbody tr th:only-of-type {\n",
       "        vertical-align: middle;\n",
       "    }\n",
       "\n",
       "    .dataframe tbody tr th {\n",
       "        vertical-align: top;\n",
       "    }\n",
       "\n",
       "    .dataframe thead th {\n",
       "        text-align: right;\n",
       "    }\n",
       "</style>\n",
       "<table border=\"1\" class=\"dataframe\">\n",
       "  <thead>\n",
       "    <tr style=\"text-align: right;\">\n",
       "      <th>Predicted class</th>\n",
       "      <th>negative</th>\n",
       "      <th>neutral</th>\n",
       "      <th>positive</th>\n",
       "    </tr>\n",
       "    <tr>\n",
       "      <th>Real class</th>\n",
       "      <th></th>\n",
       "      <th></th>\n",
       "      <th></th>\n",
       "    </tr>\n",
       "  </thead>\n",
       "  <tbody>\n",
       "    <tr>\n",
       "      <th>negative</th>\n",
       "      <td>11</td>\n",
       "      <td>7</td>\n",
       "      <td>17</td>\n",
       "    </tr>\n",
       "    <tr>\n",
       "      <th>neutral</th>\n",
       "      <td>3</td>\n",
       "      <td>12</td>\n",
       "      <td>4</td>\n",
       "    </tr>\n",
       "    <tr>\n",
       "      <th>positive</th>\n",
       "      <td>9</td>\n",
       "      <td>16</td>\n",
       "      <td>204</td>\n",
       "    </tr>\n",
       "  </tbody>\n",
       "</table>\n",
       "</div>"
      ],
      "text/plain": [
       "Predicted class  negative  neutral  positive\n",
       "Real class                                  \n",
       "negative               11        7        17\n",
       "neutral                 3       12         4\n",
       "positive                9       16       204"
      ]
     },
     "execution_count": 42,
     "metadata": {},
     "output_type": "execute_result"
    }
   ],
   "source": [
    "cm = pd.crosstab(y_test, y_pred, rownames=[\"Real class\"], colnames=[\"Predicted class\"])\n",
    "cm"
   ]
  },
  {
   "cell_type": "code",
   "execution_count": 43,
   "id": "93f643d1",
   "metadata": {},
   "outputs": [],
   "source": [
    "accuracy_lgbm = round(accuracy_score(y_true=y_test, y_pred=y_pred), 4)\n",
    "recall_lgbm = round(recall_score(y_true=y_test, y_pred=y_pred, average=\"macro\"), 4)\n",
    "precision_lgbm = round(precision_score(y_true=y_test, y_pred=y_pred, average=\"macro\"), 4)\n",
    "f1_score_lgbm = round(f1_score(y_true=y_test, y_pred=y_pred, average=\"macro\"), 4)\n",
    "f3_score_lgbm = round(fbeta_score(y_true=y_test, y_pred=y_pred, average=\"macro\", beta=3), 4)"
   ]
  },
  {
   "cell_type": "markdown",
   "id": "ddf052d4",
   "metadata": {},
   "source": [
    "<h3 style=\"font-family: Arial\">\n",
    "    <font color=\"#088A68\">\n",
    "        Multi Layer Perceptron\n",
    "    </font>\n",
    "</h3>"
   ]
  },
  {
   "cell_type": "code",
   "execution_count": 44,
   "id": "558800ac",
   "metadata": {},
   "outputs": [],
   "source": [
    "mlp_clf = MLPClassifier(\n",
    "    hidden_layer_sizes=(128, 64, 32),\n",
    "    activation=\"relu\",\n",
    "    solver=\"adam\",\n",
    "    alpha=0.0001,\n",
    "    batch_size=\"auto\",\n",
    "    learning_rate=\"constant\",\n",
    "    learning_rate_init=0.001,\n",
    "    max_iter=100,\n",
    "    shuffle=True,\n",
    "    random_state=42,\n",
    "    tol=0.0001,\n",
    "    verbose=False,\n",
    "    warm_start=False,\n",
    "    early_stopping=False,\n",
    "    validation_fraction=0.1,\n",
    ")\n",
    "\n",
    "mlp_clf.fit(X_train, np.ravel(y_train))\n",
    "y_pred = mlp_clf.predict(X_test)"
   ]
  },
  {
   "cell_type": "code",
   "execution_count": 45,
   "id": "365f0ba1",
   "metadata": {},
   "outputs": [
    {
     "name": "stdout",
     "output_type": "stream",
     "text": [
      "Minimum loss reached: 0.0007344423515283769\n",
      "Number of features: 35424\n",
      "Number of iterations: 47\n",
      "Number of layers: 5\n",
      "Number of outputs: 3\n",
      "Output activation function: softmax\n"
     ]
    }
   ],
   "source": [
    "# architecture\n",
    "print(f\"Minimum loss reached: {mlp_clf.best_loss_}\")\n",
    "print(f\"Number of features: {mlp_clf.n_features_in_}\")\n",
    "print(f\"Number of iterations: {mlp_clf.n_iter_}\")\n",
    "print(f\"Number of layers: {mlp_clf.n_layers_}\")\n",
    "print(f\"Number of outputs: {mlp_clf.n_outputs_}\")\n",
    "print(f\"Output activation function: {mlp_clf.out_activation_}\")"
   ]
  },
  {
   "cell_type": "code",
   "execution_count": 46,
   "id": "6153d071",
   "metadata": {},
   "outputs": [
    {
     "data": {
      "text/html": [
       "<div>\n",
       "<style scoped>\n",
       "    .dataframe tbody tr th:only-of-type {\n",
       "        vertical-align: middle;\n",
       "    }\n",
       "\n",
       "    .dataframe tbody tr th {\n",
       "        vertical-align: top;\n",
       "    }\n",
       "\n",
       "    .dataframe thead th {\n",
       "        text-align: right;\n",
       "    }\n",
       "</style>\n",
       "<table border=\"1\" class=\"dataframe\">\n",
       "  <thead>\n",
       "    <tr style=\"text-align: right;\">\n",
       "      <th>Predicted class</th>\n",
       "      <th>negative</th>\n",
       "      <th>neutral</th>\n",
       "      <th>positive</th>\n",
       "    </tr>\n",
       "    <tr>\n",
       "      <th>Real class</th>\n",
       "      <th></th>\n",
       "      <th></th>\n",
       "      <th></th>\n",
       "    </tr>\n",
       "  </thead>\n",
       "  <tbody>\n",
       "    <tr>\n",
       "      <th>negative</th>\n",
       "      <td>10</td>\n",
       "      <td>3</td>\n",
       "      <td>22</td>\n",
       "    </tr>\n",
       "    <tr>\n",
       "      <th>neutral</th>\n",
       "      <td>3</td>\n",
       "      <td>9</td>\n",
       "      <td>7</td>\n",
       "    </tr>\n",
       "    <tr>\n",
       "      <th>positive</th>\n",
       "      <td>2</td>\n",
       "      <td>3</td>\n",
       "      <td>224</td>\n",
       "    </tr>\n",
       "  </tbody>\n",
       "</table>\n",
       "</div>"
      ],
      "text/plain": [
       "Predicted class  negative  neutral  positive\n",
       "Real class                                  \n",
       "negative               10        3        22\n",
       "neutral                 3        9         7\n",
       "positive                2        3       224"
      ]
     },
     "execution_count": 46,
     "metadata": {},
     "output_type": "execute_result"
    }
   ],
   "source": [
    "cm = pd.crosstab(y_test, y_pred, rownames=[\"Real class\"], colnames=[\"Predicted class\"])\n",
    "cm"
   ]
  },
  {
   "cell_type": "code",
   "execution_count": 47,
   "id": "fda277a1",
   "metadata": {},
   "outputs": [],
   "source": [
    "accuracy_mlp = round(accuracy_score(y_true=y_test, y_pred=y_pred), 4)\n",
    "recall_mlp = round(recall_score(y_true=y_test, y_pred=y_pred, average=\"macro\"), 4)\n",
    "precision_mlp = round(precision_score(y_true=y_test, y_pred=y_pred, average=\"macro\"), 4)\n",
    "f1_score_mlp = round(f1_score(y_true=y_test, y_pred=y_pred, average=\"macro\"), 4)\n",
    "f3_score_mlp = round(fbeta_score(y_true=y_test, y_pred=y_pred, average=\"macro\", beta=3), 4)"
   ]
  },
  {
   "cell_type": "markdown",
   "id": "d8ecf9fb",
   "metadata": {},
   "source": [
    "<h3 style=\"font-family: Arial\">\n",
    "    <font color=\"#088A68\">\n",
    "        Voting\n",
    "    </font>\n",
    "</h3>"
   ]
  },
  {
   "cell_type": "code",
   "execution_count": 48,
   "id": "d1b12c22",
   "metadata": {},
   "outputs": [],
   "source": [
    "clf1 = MLPClassifier(\n",
    "    hidden_layer_sizes=(128, 64, 32),\n",
    "    activation=\"relu\",\n",
    "    solver=\"adam\",\n",
    "    alpha=0.0001,\n",
    "    batch_size=\"auto\",\n",
    "    learning_rate=\"constant\",\n",
    "    learning_rate_init=0.001,\n",
    "    max_iter=100,\n",
    "    shuffle=True,\n",
    "    random_state=42,\n",
    "    tol=0.0001,\n",
    "    verbose=False,\n",
    "    warm_start=False,\n",
    "    early_stopping=False,\n",
    "    validation_fraction=0.1,\n",
    ")\n",
    "\n",
    "clf2 = LogisticRegression(\n",
    "    penalty=\"l2\",\n",
    "    dual=False,\n",
    "    tol=0.0001,\n",
    "    C=1.0,\n",
    "    fit_intercept=True,\n",
    "    intercept_scaling=1,\n",
    "    class_weight=\"balanced\",\n",
    "    random_state=42,\n",
    "    solver=\"saga\",\n",
    "    max_iter=100,\n",
    "    multi_class=\"auto\",\n",
    "    verbose=False,\n",
    "    warm_start=False,\n",
    "    n_jobs=-1,\n",
    "    l1_ratio=0\n",
    ")\n",
    "\n",
    "clf3 = SVC(\n",
    "    C=1.0,\n",
    "    kernel=\"linear\",\n",
    "    degree=3,\n",
    "    gamma=\"auto\",\n",
    "    coef0=0.0,\n",
    "    shrinking=True,\n",
    "    probability=False,\n",
    "    tol=0.001,\n",
    "    cache_size=200,\n",
    "    class_weight=\"balanced\",\n",
    "    verbose=False,\n",
    "    max_iter=-1,\n",
    "    decision_function_shape=\"ovr\",\n",
    "    break_ties=False,\n",
    "    random_state=42\n",
    ")\n",
    "\n",
    "clf4 = AdaBoostClassifier(\n",
    "    base_estimator=DecisionTreeClassifier(\n",
    "        criterion=\"entropy\",\n",
    "        splitter=\"best\",\n",
    "        max_depth=12,\n",
    "        min_samples_split=2,\n",
    "        min_samples_leaf=3,\n",
    "        min_weight_fraction_leaf=0.0,\n",
    "        max_features=100,\n",
    "        random_state=42,\n",
    "        max_leaf_nodes=None,\n",
    "        min_impurity_decrease=0.0,\n",
    "        class_weight=\"balanced\",\n",
    "        ccp_alpha=0.0\n",
    "    ),\n",
    "    n_estimators=125,\n",
    "    learning_rate=0.01,\n",
    "    algorithm=\"SAMME.R\",\n",
    "    random_state=42\n",
    ")\n",
    "\n",
    "voting_clf = VotingClassifier(\n",
    "    estimators=[\n",
    "        (\"mlp_clf\", clf1),\n",
    "        (\"log_clf\", clf2),\n",
    "        (\"svc_clf\", clf3),\n",
    "        (\"adab_clf\", clf4)\n",
    "    ],\n",
    "    voting=\"hard\"\n",
    ")\n",
    "\n",
    "voting_clf.fit(X_train, np.ravel(y_train))\n",
    "y_pred = voting_clf.predict(X_test)"
   ]
  },
  {
   "cell_type": "code",
   "execution_count": 49,
   "id": "eedf3890",
   "metadata": {},
   "outputs": [
    {
     "data": {
      "text/html": [
       "<div>\n",
       "<style scoped>\n",
       "    .dataframe tbody tr th:only-of-type {\n",
       "        vertical-align: middle;\n",
       "    }\n",
       "\n",
       "    .dataframe tbody tr th {\n",
       "        vertical-align: top;\n",
       "    }\n",
       "\n",
       "    .dataframe thead th {\n",
       "        text-align: right;\n",
       "    }\n",
       "</style>\n",
       "<table border=\"1\" class=\"dataframe\">\n",
       "  <thead>\n",
       "    <tr style=\"text-align: right;\">\n",
       "      <th>Predicted class</th>\n",
       "      <th>negative</th>\n",
       "      <th>neutral</th>\n",
       "      <th>positive</th>\n",
       "    </tr>\n",
       "    <tr>\n",
       "      <th>Real class</th>\n",
       "      <th></th>\n",
       "      <th></th>\n",
       "      <th></th>\n",
       "    </tr>\n",
       "  </thead>\n",
       "  <tbody>\n",
       "    <tr>\n",
       "      <th>negative</th>\n",
       "      <td>11</td>\n",
       "      <td>4</td>\n",
       "      <td>20</td>\n",
       "    </tr>\n",
       "    <tr>\n",
       "      <th>neutral</th>\n",
       "      <td>3</td>\n",
       "      <td>9</td>\n",
       "      <td>7</td>\n",
       "    </tr>\n",
       "    <tr>\n",
       "      <th>positive</th>\n",
       "      <td>5</td>\n",
       "      <td>2</td>\n",
       "      <td>222</td>\n",
       "    </tr>\n",
       "  </tbody>\n",
       "</table>\n",
       "</div>"
      ],
      "text/plain": [
       "Predicted class  negative  neutral  positive\n",
       "Real class                                  \n",
       "negative               11        4        20\n",
       "neutral                 3        9         7\n",
       "positive                5        2       222"
      ]
     },
     "execution_count": 49,
     "metadata": {},
     "output_type": "execute_result"
    }
   ],
   "source": [
    "cm = pd.crosstab(y_test, y_pred, rownames=[\"Real class\"], colnames=[\"Predicted class\"])\n",
    "cm"
   ]
  },
  {
   "cell_type": "code",
   "execution_count": 50,
   "id": "d23b8b33",
   "metadata": {},
   "outputs": [],
   "source": [
    "accuracy_voting = round(accuracy_score(y_true=y_test, y_pred=y_pred), 4)\n",
    "recall_voting = round(recall_score(y_true=y_test, y_pred=y_pred, average=\"macro\"), 4)\n",
    "precision_voting = round(precision_score(y_true=y_test, y_pred=y_pred, average=\"macro\"), 4)\n",
    "f1_score_voting = round(f1_score(y_true=y_test, y_pred=y_pred, average=\"macro\"), 4)\n",
    "f3_score_voting = round(fbeta_score(y_true=y_test, y_pred=y_pred, average=\"macro\", beta=3), 4)"
   ]
  },
  {
   "cell_type": "markdown",
   "id": "cdececad",
   "metadata": {},
   "source": [
    "<div style=\"margin: 10px;\">\n",
    "    <h3 style=\"font-family: Arial\">\n",
    "        <font color=\"#088A68\">\n",
    "            3) Model evaluation\n",
    "        </font>\n",
    "    </h3>\n",
    "</div>"
   ]
  },
  {
   "cell_type": "code",
   "execution_count": 51,
   "id": "f684c81b",
   "metadata": {},
   "outputs": [
    {
     "data": {
      "text/html": [
       "<div>\n",
       "<style scoped>\n",
       "    .dataframe tbody tr th:only-of-type {\n",
       "        vertical-align: middle;\n",
       "    }\n",
       "\n",
       "    .dataframe tbody tr th {\n",
       "        vertical-align: top;\n",
       "    }\n",
       "\n",
       "    .dataframe thead th {\n",
       "        text-align: right;\n",
       "    }\n",
       "</style>\n",
       "<table border=\"1\" class=\"dataframe\">\n",
       "  <thead>\n",
       "    <tr style=\"text-align: right;\">\n",
       "      <th></th>\n",
       "      <th>Model</th>\n",
       "      <th>Accuracy</th>\n",
       "      <th>Recall</th>\n",
       "      <th>Precision</th>\n",
       "      <th>F1-score</th>\n",
       "      <th>F3-score</th>\n",
       "    </tr>\n",
       "  </thead>\n",
       "  <tbody>\n",
       "    <tr>\n",
       "      <th>0</th>\n",
       "      <td>MLP</td>\n",
       "      <td>0.8587</td>\n",
       "      <td>0.5792</td>\n",
       "      <td>0.7173</td>\n",
       "      <td>0.6196</td>\n",
       "      <td>0.5850</td>\n",
       "    </tr>\n",
       "    <tr>\n",
       "      <th>1</th>\n",
       "      <td>Logistic Regression</td>\n",
       "      <td>0.8551</td>\n",
       "      <td>0.6341</td>\n",
       "      <td>0.6789</td>\n",
       "      <td>0.6421</td>\n",
       "      <td>0.6342</td>\n",
       "    </tr>\n",
       "    <tr>\n",
       "      <th>2</th>\n",
       "      <td>Voting Classifier</td>\n",
       "      <td>0.8551</td>\n",
       "      <td>0.5858</td>\n",
       "      <td>0.6902</td>\n",
       "      <td>0.6219</td>\n",
       "      <td>0.5914</td>\n",
       "    </tr>\n",
       "    <tr>\n",
       "      <th>3</th>\n",
       "      <td>SVM</td>\n",
       "      <td>0.8445</td>\n",
       "      <td>0.4849</td>\n",
       "      <td>0.7098</td>\n",
       "      <td>0.5335</td>\n",
       "      <td>0.4905</td>\n",
       "    </tr>\n",
       "    <tr>\n",
       "      <th>4</th>\n",
       "      <td>AdaBoost</td>\n",
       "      <td>0.8410</td>\n",
       "      <td>0.6282</td>\n",
       "      <td>0.6640</td>\n",
       "      <td>0.6387</td>\n",
       "      <td>0.6296</td>\n",
       "    </tr>\n",
       "    <tr>\n",
       "      <th>5</th>\n",
       "      <td>LGBM</td>\n",
       "      <td>0.8021</td>\n",
       "      <td>0.6122</td>\n",
       "      <td>0.5759</td>\n",
       "      <td>0.5741</td>\n",
       "      <td>0.6001</td>\n",
       "    </tr>\n",
       "    <tr>\n",
       "      <th>6</th>\n",
       "      <td>Random Forest</td>\n",
       "      <td>0.7208</td>\n",
       "      <td>0.6349</td>\n",
       "      <td>0.5523</td>\n",
       "      <td>0.4958</td>\n",
       "      <td>0.5718</td>\n",
       "    </tr>\n",
       "  </tbody>\n",
       "</table>\n",
       "</div>"
      ],
      "text/plain": [
       "                 Model  Accuracy  Recall  Precision  F1-score  F3-score\n",
       "0                  MLP    0.8587  0.5792     0.7173    0.6196    0.5850\n",
       "1  Logistic Regression    0.8551  0.6341     0.6789    0.6421    0.6342\n",
       "2    Voting Classifier    0.8551  0.5858     0.6902    0.6219    0.5914\n",
       "3                  SVM    0.8445  0.4849     0.7098    0.5335    0.4905\n",
       "4             AdaBoost    0.8410  0.6282     0.6640    0.6387    0.6296\n",
       "5                 LGBM    0.8021  0.6122     0.5759    0.5741    0.6001\n",
       "6        Random Forest    0.7208  0.6349     0.5523    0.4958    0.5718"
      ]
     },
     "execution_count": 51,
     "metadata": {},
     "output_type": "execute_result"
    }
   ],
   "source": [
    "models = pd.DataFrame(\n",
    "    {\n",
    "        \"Model\": [\n",
    "            \"Logistic Regression\",\n",
    "            \"Random Forest\",\n",
    "            \"AdaBoost\",\n",
    "            \"SVM\",\n",
    "            \"LGBM\",\n",
    "            \"MLP\",\n",
    "            \"Voting Classifier\"\n",
    "        ],\n",
    "        \"Accuracy\": [\n",
    "            accuracy_log,\n",
    "            accuracy_rf,\n",
    "            accuracy_adab,\n",
    "            accuracy_svc,\n",
    "            accuracy_lgbm,\n",
    "            accuracy_mlp,\n",
    "            accuracy_voting\n",
    "        ],\n",
    "        \"Recall\": [\n",
    "            recall_log,\n",
    "            recall_rf,\n",
    "            recall_adab,\n",
    "            recall_svc,\n",
    "            recall_lgbm,\n",
    "            recall_mlp,\n",
    "            recall_voting\n",
    "        ],\n",
    "        \"Precision\": [\n",
    "            precision_log,\n",
    "            precision_rf,\n",
    "            precision_adab,\n",
    "            precision_svc,\n",
    "            precision_lgbm,\n",
    "            precision_mlp,\n",
    "            precision_voting\n",
    "        ],\n",
    "        \"F1-score\": [\n",
    "            f1_score_log,\n",
    "            f1_score_rf,\n",
    "            f1_score_adab,\n",
    "            f1_score_svc,\n",
    "            f1_score_lgbm,\n",
    "            f1_score_mlp,\n",
    "            f1_score_voting\n",
    "        ],\n",
    "        \"F3-score\": [\n",
    "            f3_score_log,\n",
    "            f3_score_rf,\n",
    "            f3_score_adab,\n",
    "            f3_score_svc,\n",
    "            f3_score_lgbm,\n",
    "            f3_score_mlp,\n",
    "            f3_score_voting\n",
    "        ]\n",
    "    }\n",
    ")\n",
    "\n",
    "models.sort_values(by=\"Accuracy\", ascending=False, ignore_index=True)"
   ]
  },
  {
   "cell_type": "markdown",
   "id": "8e2ee500",
   "metadata": {},
   "source": [
    "-------------------------------------------------------------------------------------------------------------------------------"
   ]
  },
  {
   "cell_type": "markdown",
   "id": "af953933",
   "metadata": {},
   "source": [
    "<div style=\"margin: 10px;\">\n",
    "    <h2 style=\"font-family: Arial\">\n",
    "        <font color=\"#084B8A\">\n",
    "            New reviews for sentiment prediction\n",
    "        </font>\n",
    "    </h2>\n",
    "</div>"
   ]
  },
  {
   "cell_type": "markdown",
   "id": "64f73581",
   "metadata": {},
   "source": [
    "<div style=\"margin: 10px;\">\n",
    "    <h3 style=\"font-family: Arial\">\n",
    "        <font color=\"#088A68\">\n",
    "            1) Data creation\n",
    "        </font>\n",
    "    </h3>\n",
    "</div>"
   ]
  },
  {
   "cell_type": "code",
   "execution_count": 52,
   "id": "1ced18ce",
   "metadata": {},
   "outputs": [],
   "source": [
    "df_new_data = pd.DataFrame(\n",
    "    {\n",
    "        \"Review\": [\n",
    "            \"This product is perfect!\",\n",
    "            \"I don't recommend this product, it doesn't work\",\n",
    "            \"if you are looking for a computer, buy it!\",\n",
    "            \"I bought this laptop for my brother.\",\n",
    "            \"Breakdown after 3 weeks. Don't buy, really lousy customer service, no refund or gift code!!!\",\n",
    "            \"Pc that supports games like League Of Legends with the RTX 3080 ti GE and the ryzen 9 3900X.\",\n",
    "            \"The computer doesn't work, this is not acceptable at all !! I want a PAYBACK ! \"\n",
    "        ]\n",
    "    }\n",
    ")"
   ]
  },
  {
   "cell_type": "markdown",
   "id": "b099dcdb",
   "metadata": {},
   "source": [
    "<div style=\"margin: 10px;\">\n",
    "    <h3 style=\"font-family: Arial\">\n",
    "        <font color=\"#088A68\">\n",
    "            2) Text cleaning\n",
    "        </font>\n",
    "    </h3>\n",
    "</div>"
   ]
  },
  {
   "cell_type": "code",
   "execution_count": 53,
   "id": "4340b2a4",
   "metadata": {},
   "outputs": [],
   "source": [
    "df_new_data = TextNet(\n",
    "    data=df_new_data,\n",
    "    column=\"Review\"\n",
    ").remove_space()"
   ]
  },
  {
   "cell_type": "code",
   "execution_count": 54,
   "id": "0f9946e6",
   "metadata": {},
   "outputs": [],
   "source": [
    "df_new_data = TextNet(\n",
    "    data=df_new_data,\n",
    "    column=\"Review\"\n",
    ").additional_cleaning(\n",
    "    add_regexs=None\n",
    ")"
   ]
  },
  {
   "cell_type": "code",
   "execution_count": 55,
   "id": "40752250",
   "metadata": {},
   "outputs": [],
   "source": [
    "df_new_data = TextNet(\n",
    "    data=df_new_data,\n",
    "    column=\"Review\"\n",
    ").lowercase()"
   ]
  },
  {
   "cell_type": "code",
   "execution_count": 56,
   "id": "da1a109c",
   "metadata": {},
   "outputs": [],
   "source": [
    "df_new_data = TextNet(\n",
    "    data=df_new_data,\n",
    "    column=\"Review\"\n",
    ").remove_punctuation()"
   ]
  },
  {
   "cell_type": "code",
   "execution_count": 57,
   "id": "ebc7a1ac",
   "metadata": {},
   "outputs": [],
   "source": [
    "df_new_data = TextNet(\n",
    "    data=df_new_data,\n",
    "    column=\"Review\"\n",
    ").remove_url()"
   ]
  },
  {
   "cell_type": "code",
   "execution_count": 58,
   "id": "d6e9adcd",
   "metadata": {},
   "outputs": [],
   "source": [
    "df_new_data = TextNet(\n",
    "    data=df_new_data,\n",
    "    column=\"Review\"\n",
    ").remove_html()"
   ]
  },
  {
   "cell_type": "code",
   "execution_count": 59,
   "id": "6254804a",
   "metadata": {},
   "outputs": [],
   "source": [
    "df_new_data = TextNet(\n",
    "    data=df_new_data,\n",
    "    column=\"Review\"\n",
    ").remove_email()"
   ]
  },
  {
   "cell_type": "code",
   "execution_count": 60,
   "id": "c7891a44",
   "metadata": {},
   "outputs": [],
   "source": [
    "df_new_data = TextNet(\n",
    "    data=df_new_data,\n",
    "    column=\"Review\"\n",
    ").remove_digit()"
   ]
  },
  {
   "cell_type": "code",
   "execution_count": 61,
   "id": "d589768f",
   "metadata": {},
   "outputs": [],
   "source": [
    "df_new_data = TextNet(\n",
    "    data=df_new_data,\n",
    "    column=\"Review\"\n",
    ").remove_mention()"
   ]
  },
  {
   "cell_type": "code",
   "execution_count": 62,
   "id": "98edd933",
   "metadata": {},
   "outputs": [],
   "source": [
    "df_new_data = TextNet(\n",
    "    data=df_new_data,\n",
    "    column=\"Review\"\n",
    ").remove_hastag()"
   ]
  },
  {
   "cell_type": "code",
   "execution_count": 63,
   "id": "94e458a5",
   "metadata": {},
   "outputs": [],
   "source": [
    "df_new_data = TextNet(\n",
    "    data=df_new_data,\n",
    "    column=\"Review\"\n",
    ").remove_emoji()"
   ]
  },
  {
   "cell_type": "code",
   "execution_count": 64,
   "id": "4f2ea485",
   "metadata": {},
   "outputs": [],
   "source": [
    "stopwords_to_keep = [\n",
    "    \"doesn\", \"doesn't\", \"doesnt\", \"dont\", \"don't\", \"not\", \"wasn't\", \"wasnt\",\n",
    "    \"aren\", \"aren't\", \"arent\",  \"couldn\", \"couldn't\", \"couldnt\", \"didn\",\n",
    "    \"didn't\", \"didnt\", \"hadn\", \"hadn't\", \"hadnt\",  \"hasn\", \"hasn't\", \"hasnt\",\n",
    "    \"haven't\", \"havent\", \"isn\", \"isn't\", \"isnt\", \"mightn\",  \"mightn't\",\n",
    "    \"mightnt\", \"mustn\", \"mustn't\", \"mustnt\", \"needn\", \"needn't\", \"neednt\",\n",
    "    \"shan\", \"shan't\", \"shant\", \"shouldn\", \"shouldn't\", \"shouldnt\", \"wasn\",\n",
    "    \"wasn't\",  \"wasnt\", \"weren\", \"weren't\", \"werent\", \"won\", \"won't\", \"wont\",\n",
    "    \"wouldn\", \"wouldn't\", \"wouldnt\", \"good\", \"bad\", \"worst\", \"wonderfull\",\n",
    "    \"best\", \"better\"\n",
    "]\n",
    "\n",
    "stopwords_to_add = [\n",
    "    \"es\", \"que\", \"en\", \"la\", \"las\", \"le\", \"les\", \"lo\", \"los\", \"de\", \"no\",\n",
    "    \"el\", \"al\", \"un\", \"una\", \"se\", \"sa\", \"su\", \"sus\", \"por\", \"con\", \"mi\",\n",
    "    \"para\", \"todo\", \"gb\", \"laptop\", \"computer\", \"pc\"\n",
    "]"
   ]
  },
  {
   "cell_type": "code",
   "execution_count": 65,
   "id": "0d4f56ed",
   "metadata": {},
   "outputs": [],
   "source": [
    "df_new_data = WordNet(\n",
    "    data=df_new_data,\n",
    "    column=\"Review\"\n",
    ").remove_stopword(\n",
    "    language=\"english\",\n",
    "    lowercase=False,\n",
    "    remove_accents=False,\n",
    "    add_stopwords=stopwords_to_add,\n",
    "    remove_stopwords=stopwords_to_keep\n",
    ")"
   ]
  },
  {
   "cell_type": "code",
   "execution_count": 66,
   "id": "ed64e1dd",
   "metadata": {},
   "outputs": [],
   "source": [
    "df_new_data = WordNet(\n",
    "    data=df_new_data,\n",
    "    column=\"Review\"\n",
    ").lemmatize(\n",
    "    language=\"english\",\n",
    "    lowercase=False,\n",
    "    remove_accents=False\n",
    ")"
   ]
  },
  {
   "cell_type": "code",
   "execution_count": 67,
   "id": "44993c00",
   "metadata": {},
   "outputs": [],
   "source": [
    "df_new_data = TextNet(\n",
    "    data=df_new_data,\n",
    "    column=\"Review\"\n",
    ").remove_whitespace()"
   ]
  },
  {
   "cell_type": "markdown",
   "id": "8902fbd4",
   "metadata": {},
   "source": [
    "<div style=\"margin: 10px;\">\n",
    "    <h3 style=\"font-family: Arial\">\n",
    "        <font color=\"#088A68\">\n",
    "            3) Vectorization\n",
    "        </font>\n",
    "    </h3>\n",
    "</div>"
   ]
  },
  {
   "cell_type": "code",
   "execution_count": 68,
   "id": "4f66754b",
   "metadata": {},
   "outputs": [],
   "source": [
    "list_new_data = df_new_data[\"Review\"].tolist()"
   ]
  },
  {
   "cell_type": "code",
   "execution_count": 69,
   "id": "363bea84",
   "metadata": {},
   "outputs": [],
   "source": [
    "new_data_vec = vectorizer.transform(list_new_data)"
   ]
  },
  {
   "cell_type": "markdown",
   "id": "a48b1aa8",
   "metadata": {},
   "source": [
    "<div style=\"margin: 10px;\">\n",
    "    <h3 style=\"font-family: Arial\">\n",
    "        <font color=\"#088A68\">\n",
    "            4) Prediction\n",
    "        </font>\n",
    "    </h3>\n",
    "</div>"
   ]
  },
  {
   "cell_type": "code",
   "execution_count": 70,
   "id": "421c921f",
   "metadata": {},
   "outputs": [],
   "source": [
    "new_data_pred = mlp_clf.predict(new_data_vec.toarray())"
   ]
  },
  {
   "cell_type": "code",
   "execution_count": 71,
   "id": "9f472863",
   "metadata": {},
   "outputs": [],
   "source": [
    "new_data_pred_proba = mlp_clf.predict_proba(new_data_vec.toarray())\n",
    "new_data_pred_proba = np.around(new_data_pred_proba, decimals=4)"
   ]
  },
  {
   "cell_type": "code",
   "execution_count": 72,
   "id": "b9890939",
   "metadata": {},
   "outputs": [],
   "source": [
    "new_data_pred = pd.DataFrame({\"Predicted Sentiment\": new_data_pred})\n",
    "new_data_pred_proba = pd.DataFrame(new_data_pred_proba, columns=[\"Negative proba\", \"Neutral proba\", \"Positive proba\"])"
   ]
  },
  {
   "cell_type": "code",
   "execution_count": 73,
   "id": "28b194bc",
   "metadata": {},
   "outputs": [],
   "source": [
    "y_pred_new = pd.concat([df_new_data[\"Review\"], new_data_pred], axis=1)\n",
    "y_pred_new = pd.concat([y_pred_new, new_data_pred_proba], axis=1)"
   ]
  },
  {
   "cell_type": "code",
   "execution_count": 74,
   "id": "37483253",
   "metadata": {},
   "outputs": [
    {
     "data": {
      "text/html": [
       "<div>\n",
       "<style scoped>\n",
       "    .dataframe tbody tr th:only-of-type {\n",
       "        vertical-align: middle;\n",
       "    }\n",
       "\n",
       "    .dataframe tbody tr th {\n",
       "        vertical-align: top;\n",
       "    }\n",
       "\n",
       "    .dataframe thead th {\n",
       "        text-align: right;\n",
       "    }\n",
       "</style>\n",
       "<table border=\"1\" class=\"dataframe\">\n",
       "  <thead>\n",
       "    <tr style=\"text-align: right;\">\n",
       "      <th></th>\n",
       "      <th>Review</th>\n",
       "      <th>Predicted Sentiment</th>\n",
       "      <th>Negative proba</th>\n",
       "      <th>Neutral proba</th>\n",
       "      <th>Positive proba</th>\n",
       "    </tr>\n",
       "  </thead>\n",
       "  <tbody>\n",
       "    <tr>\n",
       "      <th>0</th>\n",
       "      <td>product perfect</td>\n",
       "      <td>positive</td>\n",
       "      <td>0.0105</td>\n",
       "      <td>0.0142</td>\n",
       "      <td>0.9754</td>\n",
       "    </tr>\n",
       "    <tr>\n",
       "      <th>1</th>\n",
       "      <td>recommend product doesn work</td>\n",
       "      <td>negative</td>\n",
       "      <td>0.3576</td>\n",
       "      <td>0.3454</td>\n",
       "      <td>0.2970</td>\n",
       "    </tr>\n",
       "    <tr>\n",
       "      <th>2</th>\n",
       "      <td>looking buy</td>\n",
       "      <td>positive</td>\n",
       "      <td>0.0504</td>\n",
       "      <td>0.3672</td>\n",
       "      <td>0.5824</td>\n",
       "    </tr>\n",
       "    <tr>\n",
       "      <th>3</th>\n",
       "      <td>buy brother</td>\n",
       "      <td>positive</td>\n",
       "      <td>0.0075</td>\n",
       "      <td>0.0446</td>\n",
       "      <td>0.9480</td>\n",
       "    </tr>\n",
       "    <tr>\n",
       "      <th>4</th>\n",
       "      <td>breakdown weeks buy really lousy customer serv...</td>\n",
       "      <td>positive</td>\n",
       "      <td>0.2222</td>\n",
       "      <td>0.0925</td>\n",
       "      <td>0.6853</td>\n",
       "    </tr>\n",
       "    <tr>\n",
       "      <th>5</th>\n",
       "      <td>supports games like league legends rtx ti ge r...</td>\n",
       "      <td>positive</td>\n",
       "      <td>0.0035</td>\n",
       "      <td>0.0143</td>\n",
       "      <td>0.9822</td>\n",
       "    </tr>\n",
       "    <tr>\n",
       "      <th>6</th>\n",
       "      <td>doesn work not acceptable want payback</td>\n",
       "      <td>negative</td>\n",
       "      <td>0.3785</td>\n",
       "      <td>0.3242</td>\n",
       "      <td>0.2973</td>\n",
       "    </tr>\n",
       "  </tbody>\n",
       "</table>\n",
       "</div>"
      ],
      "text/plain": [
       "                                              Review Predicted Sentiment  \\\n",
       "0                                    product perfect            positive   \n",
       "1                       recommend product doesn work            negative   \n",
       "2                                        looking buy            positive   \n",
       "3                                        buy brother            positive   \n",
       "4  breakdown weeks buy really lousy customer serv...            positive   \n",
       "5  supports games like league legends rtx ti ge r...            positive   \n",
       "6            doesn work not acceptable want payback             negative   \n",
       "\n",
       "   Negative proba  Neutral proba  Positive proba  \n",
       "0          0.0105         0.0142          0.9754  \n",
       "1          0.3576         0.3454          0.2970  \n",
       "2          0.0504         0.3672          0.5824  \n",
       "3          0.0075         0.0446          0.9480  \n",
       "4          0.2222         0.0925          0.6853  \n",
       "5          0.0035         0.0143          0.9822  \n",
       "6          0.3785         0.3242          0.2973  "
      ]
     },
     "execution_count": 74,
     "metadata": {},
     "output_type": "execute_result"
    }
   ],
   "source": [
    "y_pred_new"
   ]
  }
 ],
 "metadata": {
  "kernelspec": {
   "display_name": "Python 3 (ipykernel)",
   "language": "python",
   "name": "python3"
  },
  "language_info": {
   "codemirror_mode": {
    "name": "ipython",
    "version": 3
   },
   "file_extension": ".py",
   "mimetype": "text/x-python",
   "name": "python",
   "nbconvert_exporter": "python",
   "pygments_lexer": "ipython3",
   "version": "3.9.7"
  }
 },
 "nbformat": 4,
 "nbformat_minor": 5
}
