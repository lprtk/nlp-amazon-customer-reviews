{
 "cells": [
  {
   "cell_type": "markdown",
   "metadata": {},
   "source": [
    "<strong>\n",
    "    <font color=\"#088A68\">\n",
    "        Author: lprtk\n",
    "    </font>\n",
    "</strong>\n",
    "\n",
    "<br/>\n",
    "<br/>\n",
    "\n",
    "\n",
    "<Center>\n",
    "    <h1 style=\"font-family: Arial\">\n",
    "        <font color=\"#084B8A\">\n",
    "            NLP: sentiment analysis, topic modeling & sentiment prediction\n",
    "        </font>\n",
    "    </h1>\n",
    "    <h3 style=\"font-family: Arial\">\n",
    "        <font color=\"#088A68\">\n",
    "            Notebook 2/5\n",
    "        </font>\n",
    "    </h3>\n",
    "</Center>\n",
    "\n",
    "<br/>\n",
    "\n",
    "<h3 style=\"font-family: Arial\"><font color=\"#088A68\">Paris 1 Panthéon-Sorbonne, M2 MoSEF 2021-2022</font></h3>"
   ]
  },
  {
   "cell_type": "markdown",
   "metadata": {},
   "source": [
    "-------------------------------------------------------------------------------------------------------------------------------"
   ]
  },
  {
   "cell_type": "markdown",
   "metadata": {},
   "source": [
    "<div style=\"margin: 10px;\">\n",
    "    <h2 style=\"font-family: Arial\">\n",
    "        <font color=\"#084B8A\">\n",
    "            Introduction & context\n",
    "        </font>\n",
    "    </h2>\n",
    "</div>"
   ]
  },
  {
   "cell_type": "markdown",
   "metadata": {},
   "source": [
    "<p style=\"text-align: justify\">\n",
    "    This project focuses on extracting information and value from large volumes of textual data using Natural Language Processing (NLP). Why do you want to do this?\n",
    "</p>\n",
    "<ul>\n",
    "    <li><p style=\"text-align: justify\">To improve the customer experience on the website, mobile application or in the office.</p></li>\n",
    "    <li><p style=\"text-align: justify\">Assess customer satisfaction differently.</p></li>\n",
    "    <li><p style=\"text-align: justify\"></p>Evaluate the company's image.</li>\n",
    "    <li><p style=\"text-align: justify\"></p>Be more available and accessible to customers.</li>\n",
    "    <li><p style=\"text-align: justify\"></p>According to the company's activity: find new solutions to improve the banking services offered, evaluate the seller of an online sales platform or improve the product based on customer reviews.</li>\n",
    "</ul>\n",
    "\n",
    "<p style=\"text-align: justify\">\n",
    "    Our application approach is presented in 5 main streams:\n",
    "</p>\n",
    "<ul>\n",
    "    <li>\n",
    "        <u>Step 1:</u> Web Scraping\n",
    "        <ul>\n",
    "            <li>Collect and create the data schema.</li>\n",
    "            <li>Parsing customer reviews to enrich the database: extracting title, description, date, time, nickname and rating.</li>\n",
    "        </ul>\n",
    "    </li>\n",
    "</ul>\n",
    "<ul>\n",
    "    <li>\n",
    "        <u>Step 2:</u> Sentiment Analysis and Scoring\n",
    "        <ul>\n",
    "            <li>Understand and probe the satisfaction of each customer.</li>\n",
    "            <li>Scoring the intensity and polarity of feelings from the review description.</li>\n",
    "        </ul>\n",
    "    </li>\n",
    "</ul>\n",
    "<ul>\n",
    "    <li>\n",
    "        <u>Step 3:</u> Text mining and data cleaning\n",
    "        <ul>\n",
    "            <li>Text cleaning adapted to the sales domain and to the general content of reviews.</li>\n",
    "        </ul>\n",
    "    </li>\n",
    "</ul>\n",
    "<ul>\n",
    "    <li>\n",
    "        <u>Step 4:</u> Topic Modeling (unsupervised learning)\n",
    "        <ul>\n",
    "            <li>To improve availability and speed up response time, reviews can be disassociated and prioritized according to the topic they address.</li>\n",
    "        </ul>\n",
    "    </li>\n",
    "</ul>\n",
    "<ul>\n",
    "    <li>\n",
    "        <u>Step 5:</u> Machine Learning (supervised learning)\n",
    "        <ul>\n",
    "            <li>Without reading future reviews, design a robust model to identify the overall sentiment expressed by the customer.</li>\n",
    "        </ul>\n",
    "    </li>\n",
    "</ul>"
   ]
  },
  {
   "cell_type": "markdown",
   "metadata": {},
   "source": [
    "-------------------------------------------------------------------------------------------------------------------------------"
   ]
  },
  {
   "cell_type": "markdown",
   "metadata": {},
   "source": [
    "<div style=\"margin: 10px;\">\n",
    "    <h2 style=\"font-family: Arial\">\n",
    "        <font color=\"#084B8A\">\n",
    "            Librairies import\n",
    "        </font>\n",
    "    </h2>\n",
    "</div>"
   ]
  },
  {
   "cell_type": "code",
   "execution_count": 1,
   "metadata": {},
   "outputs": [],
   "source": [
    "import pandas as pd\n",
    "from pyTCTK import TextNet, WordNet\n",
    "from vaderSentiment.vaderSentiment import SentimentIntensityAnalyzer\n",
    "import warnings\n",
    "warnings.filterwarnings(\"ignore\")"
   ]
  },
  {
   "cell_type": "markdown",
   "metadata": {},
   "source": [
    "-------------------------------------------------------------------------------------------------------------------------------"
   ]
  },
  {
   "cell_type": "markdown",
   "metadata": {},
   "source": [
    "<div style=\"margin: 10px;\">\n",
    "    <h2 style=\"font-family: Arial\">\n",
    "        <font color=\"#084B8A\">\n",
    "            Data import\n",
    "        </font>\n",
    "    </h2>\n",
    "</div>"
   ]
  },
  {
   "cell_type": "code",
   "execution_count": 2,
   "metadata": {},
   "outputs": [],
   "source": [
    "df_data = pd.read_csv(filepath_or_buffer=\"amzn_customer_reviews.csv\", sep=\",\")"
   ]
  },
  {
   "cell_type": "code",
   "execution_count": 3,
   "metadata": {},
   "outputs": [
    {
     "data": {
      "text/html": [
       "<div>\n",
       "<style scoped>\n",
       "    .dataframe tbody tr th:only-of-type {\n",
       "        vertical-align: middle;\n",
       "    }\n",
       "\n",
       "    .dataframe tbody tr th {\n",
       "        vertical-align: top;\n",
       "    }\n",
       "\n",
       "    .dataframe thead th {\n",
       "        text-align: right;\n",
       "    }\n",
       "</style>\n",
       "<table border=\"1\" class=\"dataframe\">\n",
       "  <thead>\n",
       "    <tr style=\"text-align: right;\">\n",
       "      <th></th>\n",
       "      <th>Pseudo</th>\n",
       "      <th>Title</th>\n",
       "      <th>Review</th>\n",
       "      <th>Rating</th>\n",
       "      <th>Verified Purchase</th>\n",
       "      <th>Date</th>\n",
       "    </tr>\n",
       "  </thead>\n",
       "  <tbody>\n",
       "    <tr>\n",
       "      <th>0</th>\n",
       "      <td>Assault Kittens</td>\n",
       "      <td>\\nReally good option for portability.\\n</td>\n",
       "      <td>\\nThis laptop is very impressive for its form ...</td>\n",
       "      <td>4.5 out of 5 stars</td>\n",
       "      <td>Verified Purchase</td>\n",
       "      <td>Reviewed in the United States on June 18, 2021</td>\n",
       "    </tr>\n",
       "    <tr>\n",
       "      <th>1</th>\n",
       "      <td>Kenneth Cramer</td>\n",
       "      <td>\\nExcellent portable gaming laptop\\n</td>\n",
       "      <td>\\nI'm writing this review for anyone who's on ...</td>\n",
       "      <td>5.0 out of 5 stars</td>\n",
       "      <td>Verified Purchase</td>\n",
       "      <td>Reviewed in the United States on July 7, 2021</td>\n",
       "    </tr>\n",
       "    <tr>\n",
       "      <th>2</th>\n",
       "      <td>Assault Kittens</td>\n",
       "      <td>\\nBEST 14inch Laptop in the World\\n</td>\n",
       "      <td>\\nI sold my M1 MacBook for this, and it was on...</td>\n",
       "      <td>1.0 out of 5 stars</td>\n",
       "      <td>Verified Purchase</td>\n",
       "      <td>Reviewed in the United States on June 18, 2021</td>\n",
       "    </tr>\n",
       "  </tbody>\n",
       "</table>\n",
       "</div>"
      ],
      "text/plain": [
       "            Pseudo                                    Title  \\\n",
       "0  Assault Kittens  \\nReally good option for portability.\\n   \n",
       "1   Kenneth Cramer     \\nExcellent portable gaming laptop\\n   \n",
       "2  Assault Kittens      \\nBEST 14inch Laptop in the World\\n   \n",
       "\n",
       "                                              Review              Rating  \\\n",
       "0  \\nThis laptop is very impressive for its form ...  4.5 out of 5 stars   \n",
       "1  \\nI'm writing this review for anyone who's on ...  5.0 out of 5 stars   \n",
       "2  \\nI sold my M1 MacBook for this, and it was on...  1.0 out of 5 stars   \n",
       "\n",
       "   Verified Purchase                                            Date  \n",
       "0  Verified Purchase  Reviewed in the United States on June 18, 2021  \n",
       "1  Verified Purchase   Reviewed in the United States on July 7, 2021  \n",
       "2  Verified Purchase  Reviewed in the United States on June 18, 2021  "
      ]
     },
     "execution_count": 3,
     "metadata": {},
     "output_type": "execute_result"
    }
   ],
   "source": [
    "df_data.head(3)"
   ]
  },
  {
   "cell_type": "markdown",
   "metadata": {},
   "source": [
    "-------------------------------------------------------------------------------------------------------------------------------"
   ]
  },
  {
   "cell_type": "markdown",
   "metadata": {},
   "source": [
    "<div style=\"margin: 10px;\">\n",
    "    <h2 style=\"font-family: Arial\">\n",
    "        <font color=\"#084B8A\">\n",
    "            Text cleaning: first part\n",
    "        </font>\n",
    "    </h2>\n",
    "</div>"
   ]
  },
  {
   "cell_type": "markdown",
   "metadata": {},
   "source": [
    "> « It’s all about the Data. Key to any successful algorithm is a good dataset » (source : National Aeronautics and Space Administration, You Can Help Train NASA’s Rovers to Better Explore Mars | NASA.com).\n",
    "\n",
    "<p style=\"text-align: justify\">\n",
    "    Before moving on to the modeling stage, there is a whole pre-processing to be done: make sure that there are no missing values, no absurd values (outliers), no duplicates, no uninterpretable characteristics, no correlation between certain variables, make sure to re-encode certain characteristics, perform format conversions, create new variables or delete old characteristics. This cleaning is the first step, crucial to start the project well, and has a direct influence on the performance and predictions of the future modeling. More and more, the notion of data quality is evoked because poor quality, unprepared or uninterpretable variables will only amplify the black box effect of certain models.\n",
    "</p>"
   ]
  },
  {
   "cell_type": "markdown",
   "metadata": {},
   "source": [
    "<div style=\"margin: 10px;\">\n",
    "    <h3 style=\"font-family: Arial\">\n",
    "        <font color=\"#088A68\">\n",
    "            1) Filter reviews, remove spaces and clean some specific characters\n",
    "        </font>\n",
    "    </h3>\n",
    "</div>"
   ]
  },
  {
   "cell_type": "markdown",
   "metadata": {},
   "source": [
    "<p style=\"text-align: justify\">\n",
    "    We make a first very light cleaning (deletion of spaces and html tags) before applying the sentimental analysis because the VADER algorithm takes into account the capital letters, the negations or the punctuation to realize the sentimental scoring.\n",
    "</p>"
   ]
  },
  {
   "cell_type": "code",
   "execution_count": 4,
   "metadata": {},
   "outputs": [],
   "source": [
    "df_data = TextNet(\n",
    "    data=df_data,\n",
    "    column=\"Review\"\n",
    ").remove_space()\n",
    "\n",
    "df_data = TextNet(\n",
    "    data=df_data,\n",
    "    column=\"Title\"\n",
    ").remove_space()"
   ]
  },
  {
   "cell_type": "code",
   "execution_count": 5,
   "metadata": {},
   "outputs": [],
   "source": [
    "df_data = TextNet(\n",
    "    data=df_data,\n",
    "    column=\"Review\"\n",
    ").remove_whitespace()\n",
    "\n",
    "df_data = TextNet(\n",
    "    data=df_data,\n",
    "    column=\"Title\"\n",
    ").remove_whitespace()"
   ]
  },
  {
   "cell_type": "code",
   "execution_count": 6,
   "metadata": {},
   "outputs": [],
   "source": [
    "df_data = TextNet(\n",
    "    data=df_data,\n",
    "    column=\"Review\"\n",
    ").additional_cleaning(\n",
    "    add_regexs=None\n",
    ")\n",
    "\n",
    "df_data = TextNet(\n",
    "    data=df_data,\n",
    "    column=\"Title\"\n",
    ").additional_cleaning(\n",
    "    add_regexs=None\n",
    ")"
   ]
  },
  {
   "cell_type": "code",
   "execution_count": 7,
   "metadata": {},
   "outputs": [
    {
     "data": {
      "text/html": [
       "<div>\n",
       "<style scoped>\n",
       "    .dataframe tbody tr th:only-of-type {\n",
       "        vertical-align: middle;\n",
       "    }\n",
       "\n",
       "    .dataframe tbody tr th {\n",
       "        vertical-align: top;\n",
       "    }\n",
       "\n",
       "    .dataframe thead th {\n",
       "        text-align: right;\n",
       "    }\n",
       "</style>\n",
       "<table border=\"1\" class=\"dataframe\">\n",
       "  <thead>\n",
       "    <tr style=\"text-align: right;\">\n",
       "      <th></th>\n",
       "      <th>Pseudo</th>\n",
       "      <th>Title</th>\n",
       "      <th>Review</th>\n",
       "      <th>Rating</th>\n",
       "      <th>Verified Purchase</th>\n",
       "      <th>Date</th>\n",
       "    </tr>\n",
       "  </thead>\n",
       "  <tbody>\n",
       "    <tr>\n",
       "      <th>0</th>\n",
       "      <td>Assault Kittens</td>\n",
       "      <td>Really good option for portability.</td>\n",
       "      <td>This laptop is very impressive for its form fa...</td>\n",
       "      <td>4.5 out of 5 stars</td>\n",
       "      <td>Verified Purchase</td>\n",
       "      <td>Reviewed in the United States on June 18, 2021</td>\n",
       "    </tr>\n",
       "    <tr>\n",
       "      <th>1</th>\n",
       "      <td>Kenneth Cramer</td>\n",
       "      <td>Excellent portable gaming laptop</td>\n",
       "      <td>I'm writing this review for anyone who's on th...</td>\n",
       "      <td>5.0 out of 5 stars</td>\n",
       "      <td>Verified Purchase</td>\n",
       "      <td>Reviewed in the United States on July 7, 2021</td>\n",
       "    </tr>\n",
       "    <tr>\n",
       "      <th>2</th>\n",
       "      <td>Assault Kittens</td>\n",
       "      <td>BEST 14inch Laptop in the World</td>\n",
       "      <td>I sold my M1 MacBook for this, and it was one ...</td>\n",
       "      <td>1.0 out of 5 stars</td>\n",
       "      <td>Verified Purchase</td>\n",
       "      <td>Reviewed in the United States on June 18, 2021</td>\n",
       "    </tr>\n",
       "  </tbody>\n",
       "</table>\n",
       "</div>"
      ],
      "text/plain": [
       "            Pseudo                                Title  \\\n",
       "0  Assault Kittens  Really good option for portability.   \n",
       "1   Kenneth Cramer     Excellent portable gaming laptop   \n",
       "2  Assault Kittens      BEST 14inch Laptop in the World   \n",
       "\n",
       "                                              Review              Rating  \\\n",
       "0  This laptop is very impressive for its form fa...  4.5 out of 5 stars   \n",
       "1  I'm writing this review for anyone who's on th...  5.0 out of 5 stars   \n",
       "2  I sold my M1 MacBook for this, and it was one ...  1.0 out of 5 stars   \n",
       "\n",
       "   Verified Purchase                                            Date  \n",
       "0  Verified Purchase  Reviewed in the United States on June 18, 2021  \n",
       "1  Verified Purchase   Reviewed in the United States on July 7, 2021  \n",
       "2  Verified Purchase  Reviewed in the United States on June 18, 2021  "
      ]
     },
     "execution_count": 7,
     "metadata": {},
     "output_type": "execute_result"
    }
   ],
   "source": [
    "df_data.head(3)"
   ]
  },
  {
   "cell_type": "markdown",
   "metadata": {},
   "source": [
    "-------------------------------------------------------------------------------------------------------------------------------"
   ]
  },
  {
   "cell_type": "markdown",
   "metadata": {},
   "source": [
    "<div style=\"margin: 10px;\">\n",
    "    <h2 style=\"font-family: Arial\">\n",
    "        <font color=\"#084B8A\">\n",
    "            Sentiment analysis: VADER\n",
    "        </font>\n",
    "    </h2>\n",
    "</div>"
   ]
  },
  {
   "cell_type": "code",
   "execution_count": 8,
   "metadata": {},
   "outputs": [],
   "source": [
    "vader = SentimentIntensityAnalyzer()"
   ]
  },
  {
   "cell_type": "code",
   "execution_count": 9,
   "metadata": {},
   "outputs": [],
   "source": [
    "df_data[\"Score\"] = df_data[\"Review\"].apply(\n",
    "    lambda review: vader.polarity_scores(review)\n",
    ")\n",
    "df_data[\"Compound\"] = df_data[\"Score\"].apply(\n",
    "    lambda score_dict: score_dict[\"compound\"]\n",
    ")\n",
    "df_data[\"Sentiment\"] = df_data[\"Compound\"].apply(\n",
    "    lambda sent: \"positive\" if sent > 0 else (\"neutral\" if sent == 0 else \"negative\")\n",
    ")"
   ]
  },
  {
   "cell_type": "code",
   "execution_count": 10,
   "metadata": {},
   "outputs": [
    {
     "data": {
      "text/plain": [
       "positive    907\n",
       "negative    156\n",
       "neutral      73\n",
       "Name: Sentiment, dtype: int64"
      ]
     },
     "execution_count": 10,
     "metadata": {},
     "output_type": "execute_result"
    }
   ],
   "source": [
    "df_data[\"Sentiment\"].value_counts()"
   ]
  },
  {
   "cell_type": "code",
   "execution_count": 11,
   "metadata": {},
   "outputs": [
    {
     "data": {
      "text/html": [
       "<div>\n",
       "<style scoped>\n",
       "    .dataframe tbody tr th:only-of-type {\n",
       "        vertical-align: middle;\n",
       "    }\n",
       "\n",
       "    .dataframe tbody tr th {\n",
       "        vertical-align: top;\n",
       "    }\n",
       "\n",
       "    .dataframe thead th {\n",
       "        text-align: right;\n",
       "    }\n",
       "</style>\n",
       "<table border=\"1\" class=\"dataframe\">\n",
       "  <thead>\n",
       "    <tr style=\"text-align: right;\">\n",
       "      <th></th>\n",
       "      <th>Pseudo</th>\n",
       "      <th>Title</th>\n",
       "      <th>Review</th>\n",
       "      <th>Rating</th>\n",
       "      <th>Verified Purchase</th>\n",
       "      <th>Date</th>\n",
       "      <th>Score</th>\n",
       "      <th>Compound</th>\n",
       "      <th>Sentiment</th>\n",
       "    </tr>\n",
       "  </thead>\n",
       "  <tbody>\n",
       "    <tr>\n",
       "      <th>0</th>\n",
       "      <td>Assault Kittens</td>\n",
       "      <td>Really good option for portability.</td>\n",
       "      <td>This laptop is very impressive for its form fa...</td>\n",
       "      <td>4.5 out of 5 stars</td>\n",
       "      <td>Verified Purchase</td>\n",
       "      <td>Reviewed in the United States on June 18, 2021</td>\n",
       "      <td>{'neg': 0.014, 'neu': 0.736, 'pos': 0.249, 'co...</td>\n",
       "      <td>0.9941</td>\n",
       "      <td>positive</td>\n",
       "    </tr>\n",
       "    <tr>\n",
       "      <th>1</th>\n",
       "      <td>Kenneth Cramer</td>\n",
       "      <td>Excellent portable gaming laptop</td>\n",
       "      <td>I'm writing this review for anyone who's on th...</td>\n",
       "      <td>5.0 out of 5 stars</td>\n",
       "      <td>Verified Purchase</td>\n",
       "      <td>Reviewed in the United States on July 7, 2021</td>\n",
       "      <td>{'neg': 0.016, 'neu': 0.88, 'pos': 0.104, 'com...</td>\n",
       "      <td>0.9921</td>\n",
       "      <td>positive</td>\n",
       "    </tr>\n",
       "    <tr>\n",
       "      <th>2</th>\n",
       "      <td>Assault Kittens</td>\n",
       "      <td>BEST 14inch Laptop in the World</td>\n",
       "      <td>I sold my M1 MacBook for this, and it was one ...</td>\n",
       "      <td>1.0 out of 5 stars</td>\n",
       "      <td>Verified Purchase</td>\n",
       "      <td>Reviewed in the United States on June 18, 2021</td>\n",
       "      <td>{'neg': 0.0, 'neu': 0.854, 'pos': 0.146, 'comp...</td>\n",
       "      <td>0.8779</td>\n",
       "      <td>positive</td>\n",
       "    </tr>\n",
       "  </tbody>\n",
       "</table>\n",
       "</div>"
      ],
      "text/plain": [
       "            Pseudo                                Title  \\\n",
       "0  Assault Kittens  Really good option for portability.   \n",
       "1   Kenneth Cramer     Excellent portable gaming laptop   \n",
       "2  Assault Kittens      BEST 14inch Laptop in the World   \n",
       "\n",
       "                                              Review              Rating  \\\n",
       "0  This laptop is very impressive for its form fa...  4.5 out of 5 stars   \n",
       "1  I'm writing this review for anyone who's on th...  5.0 out of 5 stars   \n",
       "2  I sold my M1 MacBook for this, and it was one ...  1.0 out of 5 stars   \n",
       "\n",
       "   Verified Purchase                                            Date  \\\n",
       "0  Verified Purchase  Reviewed in the United States on June 18, 2021   \n",
       "1  Verified Purchase   Reviewed in the United States on July 7, 2021   \n",
       "2  Verified Purchase  Reviewed in the United States on June 18, 2021   \n",
       "\n",
       "                                               Score  Compound Sentiment  \n",
       "0  {'neg': 0.014, 'neu': 0.736, 'pos': 0.249, 'co...    0.9941  positive  \n",
       "1  {'neg': 0.016, 'neu': 0.88, 'pos': 0.104, 'com...    0.9921  positive  \n",
       "2  {'neg': 0.0, 'neu': 0.854, 'pos': 0.146, 'comp...    0.8779  positive  "
      ]
     },
     "execution_count": 11,
     "metadata": {},
     "output_type": "execute_result"
    }
   ],
   "source": [
    "df_data.head(3)"
   ]
  },
  {
   "cell_type": "markdown",
   "metadata": {},
   "source": [
    "-------------------------------------------------------------------------------------------------------------------------------"
   ]
  },
  {
   "cell_type": "markdown",
   "metadata": {},
   "source": [
    "<div style=\"margin: 10px;\">\n",
    "    <h2 style=\"font-family: Arial\">\n",
    "        <font color=\"#084B8A\">\n",
    "            Text cleaning: second part\n",
    "        </font>\n",
    "    </h2>\n",
    "</div>"
   ]
  },
  {
   "cell_type": "markdown",
   "metadata": {},
   "source": [
    "<div style=\"margin: 10px;\">\n",
    "    <h3 style=\"font-family: Arial\">\n",
    "        <font color=\"#088A68\">\n",
    "            1) Lowercase\n",
    "        </font>\n",
    "    </h3>\n",
    "</div>"
   ]
  },
  {
   "cell_type": "code",
   "execution_count": 12,
   "metadata": {},
   "outputs": [],
   "source": [
    "df_data = TextNet(\n",
    "    data=df_data,\n",
    "    column=\"Review\"\n",
    ").lowercase()\n",
    "\n",
    "df_data = TextNet(\n",
    "    data=df_data,\n",
    "    column=\"Title\"\n",
    ").lowercase()"
   ]
  },
  {
   "cell_type": "markdown",
   "metadata": {},
   "source": [
    "<div style=\"margin: 10px;\">\n",
    "    <h3 style=\"font-family: Arial\">\n",
    "        <font color=\"#088A68\">\n",
    "            2) Punctuation\n",
    "        </font>\n",
    "    </h3>\n",
    "</div>"
   ]
  },
  {
   "cell_type": "code",
   "execution_count": 13,
   "metadata": {},
   "outputs": [],
   "source": [
    "df_data = TextNet(\n",
    "    data=df_data,\n",
    "    column=\"Review\"\n",
    ").remove_punctuation()\n",
    "\n",
    "df_data = TextNet(\n",
    "    data=df_data,\n",
    "    column=\"Title\"\n",
    ").remove_punctuation()"
   ]
  },
  {
   "cell_type": "markdown",
   "metadata": {},
   "source": [
    "<div style=\"margin: 10px;\">\n",
    "    <h3 style=\"font-family: Arial\">\n",
    "        <font color=\"#088A68\">\n",
    "            3) Specific cleaning\n",
    "        </font>\n",
    "    </h3>\n",
    "</div>"
   ]
  },
  {
   "cell_type": "code",
   "execution_count": 14,
   "metadata": {},
   "outputs": [],
   "source": [
    "df_data = TextNet(\n",
    "    data=df_data,\n",
    "    column=\"Review\"\n",
    ").remove_url()\n",
    "\n",
    "df_data = TextNet(\n",
    "    data=df_data,\n",
    "    column=\"Title\"\n",
    ").remove_url()"
   ]
  },
  {
   "cell_type": "code",
   "execution_count": 15,
   "metadata": {},
   "outputs": [],
   "source": [
    "df_data = TextNet(\n",
    "    data=df_data,\n",
    "    column=\"Review\"\n",
    ").remove_html()\n",
    "\n",
    "df_data = TextNet(\n",
    "    data=df_data,\n",
    "    column=\"Title\"\n",
    ").remove_html()"
   ]
  },
  {
   "cell_type": "code",
   "execution_count": 16,
   "metadata": {},
   "outputs": [],
   "source": [
    "df_data = TextNet(\n",
    "    data=df_data,\n",
    "    column=\"Review\"\n",
    ").remove_email()\n",
    "\n",
    "df_data = TextNet(\n",
    "    data=df_data,\n",
    "    column=\"Title\"\n",
    ").remove_email()"
   ]
  },
  {
   "cell_type": "code",
   "execution_count": 17,
   "metadata": {},
   "outputs": [],
   "source": [
    "df_data = TextNet(\n",
    "    data=df_data,\n",
    "    column=\"Review\"\n",
    ").remove_digit()\n",
    "\n",
    "df_data = TextNet(\n",
    "    data=df_data,\n",
    "    column=\"Title\"\n",
    ").remove_digit()"
   ]
  },
  {
   "cell_type": "code",
   "execution_count": 18,
   "metadata": {},
   "outputs": [],
   "source": [
    "df_data = TextNet(\n",
    "    data=df_data,\n",
    "    column=\"Review\"\n",
    ").remove_mention()\n",
    "\n",
    "df_data = TextNet(\n",
    "    data=df_data,\n",
    "    column=\"Title\"\n",
    ").remove_mention()"
   ]
  },
  {
   "cell_type": "code",
   "execution_count": 19,
   "metadata": {},
   "outputs": [],
   "source": [
    "df_data = TextNet(\n",
    "    data=df_data,\n",
    "    column=\"Review\"\n",
    ").remove_hastag()\n",
    "\n",
    "df_data = TextNet(\n",
    "    data=df_data,\n",
    "    column=\"Title\"\n",
    ").remove_hastag()"
   ]
  },
  {
   "cell_type": "code",
   "execution_count": 20,
   "metadata": {},
   "outputs": [],
   "source": [
    "df_data = TextNet(\n",
    "    data=df_data,\n",
    "    column=\"Review\"\n",
    ").remove_emoji()\n",
    "\n",
    "df_data = TextNet(\n",
    "    data=df_data,\n",
    "    column=\"Title\"\n",
    ").remove_emoji()"
   ]
  },
  {
   "cell_type": "markdown",
   "metadata": {},
   "source": [
    "<div style=\"margin: 10px;\">\n",
    "    <h3 style=\"font-family: Arial\">\n",
    "        <font color=\"#088A68\">\n",
    "            4) Remove stopwords\n",
    "        </font>\n",
    "    </h3>\n",
    "</div>"
   ]
  },
  {
   "cell_type": "code",
   "execution_count": 21,
   "metadata": {},
   "outputs": [],
   "source": [
    "stopwords_to_keep = [\n",
    "    \"doesn\", \"doesn't\", \"doesnt\", \"dont\", \"don't\", \"not\", \"wasn't\", \"wasnt\",\n",
    "    \"aren\", \"aren't\", \"arent\",  \"couldn\", \"couldn't\", \"couldnt\", \"didn\",\n",
    "    \"didn't\", \"didnt\", \"hadn\", \"hadn't\", \"hadnt\",  \"hasn\", \"hasn't\", \"hasnt\",\n",
    "    \"haven't\", \"havent\", \"isn\", \"isn't\", \"isnt\", \"mightn\",  \"mightn't\",\n",
    "    \"mightnt\", \"mustn\", \"mustn't\", \"mustnt\", \"needn\", \"needn't\", \"neednt\",\n",
    "    \"shan\", \"shan't\", \"shant\", \"shouldn\", \"shouldn't\", \"shouldnt\", \"wasn\",\n",
    "    \"wasn't\",  \"wasnt\", \"weren\", \"weren't\", \"werent\", \"won\", \"won't\", \"wont\",\n",
    "    \"wouldn\", \"wouldn't\", \"wouldnt\", \"good\", \"bad\", \"worst\", \"wonderfull\",\n",
    "    \"best\", \"better\"\n",
    "]\n",
    "\n",
    "stopwords_to_add = [\n",
    "    \"es\", \"que\", \"en\", \"la\", \"las\", \"le\", \"les\", \"lo\", \"los\", \"de\", \"no\",\n",
    "    \"el\", \"al\", \"un\", \"una\", \"se\", \"sa\", \"su\", \"sus\", \"por\", \"con\", \"mi\",\n",
    "    \"para\", \"todo\", \"gb\", \"laptop\", \"computer\", \"pc\"\n",
    "]"
   ]
  },
  {
   "cell_type": "code",
   "execution_count": 22,
   "metadata": {},
   "outputs": [],
   "source": [
    "df_data = WordNet(\n",
    "    data=df_data,\n",
    "    column=\"Review\"\n",
    ").remove_stopword(\n",
    "    language=\"english\",\n",
    "    lowercase=False,\n",
    "    remove_accents=False,\n",
    "    add_stopwords=stopwords_to_add,\n",
    "    remove_stopwords=stopwords_to_keep\n",
    ")\n",
    "\n",
    "df_data = WordNet(\n",
    "    data=df_data,\n",
    "    column=\"Title\"\n",
    ").remove_stopword(\n",
    "    language=\"english\",\n",
    "    lowercase=False,\n",
    "    remove_accents=False,\n",
    "    add_stopwords=stopwords_to_add,\n",
    "    remove_stopwords=stopwords_to_keep\n",
    ")"
   ]
  },
  {
   "cell_type": "markdown",
   "metadata": {},
   "source": [
    "<div style=\"margin: 10px;\">\n",
    "    <h3 style=\"font-family: Arial\">\n",
    "        <font color=\"#088A68\">\n",
    "            5) Lemmatization process\n",
    "        </font>\n",
    "    </h3>\n",
    "</div>"
   ]
  },
  {
   "cell_type": "code",
   "execution_count": 23,
   "metadata": {},
   "outputs": [],
   "source": [
    "df_data = WordNet(\n",
    "    data=df_data,\n",
    "    column=\"Review\"\n",
    ").lemmatize(\n",
    "    language=\"english\",\n",
    "    lowercase=False,\n",
    "    remove_accents=False\n",
    ")\n",
    "\n",
    "df_data = WordNet(\n",
    "    data=df_data,\n",
    "    column=\"Title\"\n",
    ").lemmatize(\n",
    "    language=\"english\",\n",
    "    lowercase=False,\n",
    "    remove_accents=False\n",
    ")"
   ]
  },
  {
   "cell_type": "markdown",
   "metadata": {},
   "source": [
    "<div style=\"margin: 10px;\">\n",
    "    <h3 style=\"font-family: Arial\">\n",
    "        <font color=\"#088A68\">\n",
    "            6) Empty lines\n",
    "        </font>\n",
    "    </h3>\n",
    "</div>"
   ]
  },
  {
   "cell_type": "code",
   "execution_count": 24,
   "metadata": {},
   "outputs": [],
   "source": [
    "df_data.drop(index=[282, 749, 859, 883, 1013, 1014, 1061], axis=0, inplace=True)\n",
    "df_data.reset_index(drop=True, inplace=True)"
   ]
  },
  {
   "cell_type": "code",
   "execution_count": 25,
   "metadata": {},
   "outputs": [],
   "source": [
    "df_data = TextNet(\n",
    "    data=df_data,\n",
    "    column=\"Review\"\n",
    ").remove_whitespace()\n",
    "\n",
    "df_data = TextNet(\n",
    "    data=df_data,\n",
    "    column=\"Title\"\n",
    ").remove_whitespace()"
   ]
  },
  {
   "cell_type": "code",
   "execution_count": 26,
   "metadata": {
    "scrolled": true
   },
   "outputs": [
    {
     "data": {
      "text/html": [
       "<div>\n",
       "<style scoped>\n",
       "    .dataframe tbody tr th:only-of-type {\n",
       "        vertical-align: middle;\n",
       "    }\n",
       "\n",
       "    .dataframe tbody tr th {\n",
       "        vertical-align: top;\n",
       "    }\n",
       "\n",
       "    .dataframe thead th {\n",
       "        text-align: right;\n",
       "    }\n",
       "</style>\n",
       "<table border=\"1\" class=\"dataframe\">\n",
       "  <thead>\n",
       "    <tr style=\"text-align: right;\">\n",
       "      <th></th>\n",
       "      <th>Pseudo</th>\n",
       "      <th>Title</th>\n",
       "      <th>Review</th>\n",
       "      <th>Rating</th>\n",
       "      <th>Verified Purchase</th>\n",
       "      <th>Date</th>\n",
       "      <th>Score</th>\n",
       "      <th>Compound</th>\n",
       "      <th>Sentiment</th>\n",
       "    </tr>\n",
       "  </thead>\n",
       "  <tbody>\n",
       "    <tr>\n",
       "      <th>0</th>\n",
       "      <td>Assault Kittens</td>\n",
       "      <td>really good option portability</td>\n",
       "      <td>impressive form factor really good balance siz...</td>\n",
       "      <td>4.5 out of 5 stars</td>\n",
       "      <td>Verified Purchase</td>\n",
       "      <td>Reviewed in the United States on June 18, 2021</td>\n",
       "      <td>{'neg': 0.014, 'neu': 0.736, 'pos': 0.249, 'co...</td>\n",
       "      <td>0.9941</td>\n",
       "      <td>positive</td>\n",
       "    </tr>\n",
       "    <tr>\n",
       "      <th>1</th>\n",
       "      <td>Kenneth Cramer</td>\n",
       "      <td>excellent portable gaming</td>\n",
       "      <td>write review anyone fence purchasing since rea...</td>\n",
       "      <td>5.0 out of 5 stars</td>\n",
       "      <td>Verified Purchase</td>\n",
       "      <td>Reviewed in the United States on July 7, 2021</td>\n",
       "      <td>{'neg': 0.016, 'neu': 0.88, 'pos': 0.104, 'com...</td>\n",
       "      <td>0.9921</td>\n",
       "      <td>positive</td>\n",
       "    </tr>\n",
       "    <tr>\n",
       "      <th>2</th>\n",
       "      <td>Assault Kittens</td>\n",
       "      <td>best inch world</td>\n",
       "      <td>sell macbook best decisions lifeif used macboo...</td>\n",
       "      <td>1.0 out of 5 stars</td>\n",
       "      <td>Verified Purchase</td>\n",
       "      <td>Reviewed in the United States on June 18, 2021</td>\n",
       "      <td>{'neg': 0.0, 'neu': 0.854, 'pos': 0.146, 'comp...</td>\n",
       "      <td>0.8779</td>\n",
       "      <td>positive</td>\n",
       "    </tr>\n",
       "  </tbody>\n",
       "</table>\n",
       "</div>"
      ],
      "text/plain": [
       "            Pseudo                           Title  \\\n",
       "0  Assault Kittens  really good option portability   \n",
       "1   Kenneth Cramer       excellent portable gaming   \n",
       "2  Assault Kittens                 best inch world   \n",
       "\n",
       "                                              Review              Rating  \\\n",
       "0  impressive form factor really good balance siz...  4.5 out of 5 stars   \n",
       "1  write review anyone fence purchasing since rea...  5.0 out of 5 stars   \n",
       "2  sell macbook best decisions lifeif used macboo...  1.0 out of 5 stars   \n",
       "\n",
       "   Verified Purchase                                            Date  \\\n",
       "0  Verified Purchase  Reviewed in the United States on June 18, 2021   \n",
       "1  Verified Purchase   Reviewed in the United States on July 7, 2021   \n",
       "2  Verified Purchase  Reviewed in the United States on June 18, 2021   \n",
       "\n",
       "                                               Score  Compound Sentiment  \n",
       "0  {'neg': 0.014, 'neu': 0.736, 'pos': 0.249, 'co...    0.9941  positive  \n",
       "1  {'neg': 0.016, 'neu': 0.88, 'pos': 0.104, 'com...    0.9921  positive  \n",
       "2  {'neg': 0.0, 'neu': 0.854, 'pos': 0.146, 'comp...    0.8779  positive  "
      ]
     },
     "execution_count": 26,
     "metadata": {},
     "output_type": "execute_result"
    }
   ],
   "source": [
    "df_data.head(3)"
   ]
  },
  {
   "cell_type": "markdown",
   "metadata": {},
   "source": [
    "-------------------------------------------------------------------------------------------------------------------------------"
   ]
  },
  {
   "cell_type": "markdown",
   "metadata": {},
   "source": [
    "<div style=\"margin: 10px;\">\n",
    "    <h2 style=\"font-family: Arial\">\n",
    "        <font color=\"#084B8A\">\n",
    "            Feature Engineering\n",
    "        </font>\n",
    "    </h2>\n",
    "</div>"
   ]
  },
  {
   "cell_type": "markdown",
   "metadata": {},
   "source": [
    "<div style=\"margin: 10px;\">\n",
    "    <h3 style=\"font-family: Arial\">\n",
    "        <font color=\"#088A68\">\n",
    "            1) Rating\n",
    "        </font>\n",
    "    </h3>\n",
    "</div>"
   ]
  },
  {
   "cell_type": "code",
   "execution_count": 27,
   "metadata": {},
   "outputs": [],
   "source": [
    "def feature_rating(text, dataframe) -> pd.core.frame.DataFrame:\n",
    "    \"\"\"\n",
    "    Function that extracts the customer's rating and converts it to a float.\n",
    "    \n",
    "    Parameters\n",
    "    ----------\n",
    "    text : str or pandas.core.series.Series\n",
    "        Text from which to extract the client's note.\n",
    "    \n",
    "    dataframe : pandas.core.frame.DataFrame\n",
    "        Dataframe that allows the extraction of the final results.\n",
    "\n",
    "    Returns\n",
    "    -------\n",
    "    pandas.core.frame.DataFrame\n",
    "        Dataframe that contains the final result.\n",
    "\n",
    "    \"\"\"\n",
    "    rating = []\n",
    "    for i in range(0, len(text)):\n",
    "        row = text[i].split(\" \")\n",
    "        row = row[0].replace(\",\", \".\")\n",
    "        row = float(row)\n",
    "        rating.append(row)\n",
    "    \n",
    "    df_data = pd.DataFrame({\"New rating\": rating})\n",
    "    dataframe = pd.concat([dataframe, df_data[\"New rating\"]], axis=1)\n",
    "    \n",
    "    return dataframe\n",
    "\n",
    "df_data = feature_rating(text=df_data[\"Rating\"], dataframe=df_data)"
   ]
  },
  {
   "cell_type": "markdown",
   "metadata": {},
   "source": [
    "<div style=\"margin: 10px;\">\n",
    "    <h3 style=\"font-family: Arial\">\n",
    "        <font color=\"#088A68\">\n",
    "            2) Date\n",
    "        </font>\n",
    "    </h3>\n",
    "</div>"
   ]
  },
  {
   "cell_type": "code",
   "execution_count": 28,
   "metadata": {},
   "outputs": [],
   "source": [
    "def feature_date(text, dataframe) -> pd.core.frame.DataFrame:\n",
    "    \"\"\"\n",
    "    Function to extract the date from a text and convert it to datetime.\n",
    "\n",
    "    Parameters\n",
    "    ----------\n",
    "    text : str or pandas.core.series.Series\n",
    "        Text from which to extract the review's date.\n",
    "    \n",
    "    dataframe : pandas.core.frame.DataFrame\n",
    "        Dataframe that allows the extraction of the final results.\n",
    "\n",
    "    Returns\n",
    "    -------\n",
    "    pandas.core.frame.DataFrame\n",
    "        Dataframe that contains the final result.\n",
    "\n",
    "    \"\"\"\n",
    "    root = {\n",
    "        \"January\": \"01\", \"january\": \"01\",\n",
    "        \"February\": \"02\", \"february\": \"02\",\n",
    "        \"March\": \"03\", \"march\": \"03\",\n",
    "        \"April\": \"04\", \"april\": \"04\",\n",
    "        \"May\": \"05\", \"may\": \"05\",\n",
    "        \"June\": \"06\", \"june\": \"06\",\n",
    "        \"July\": \"07\", \"july\": \"07\",\n",
    "        \"August\": \"08\", \"august\": \"08\",\n",
    "        \"September\": \"09\", \"september\": \"09\",\n",
    "        \"0ctober\": \"10\", \"october\": \"10\",\n",
    "        \"November\": \"11\", \"november\": \"11\",\n",
    "        \"December\": \"12\", \"december\": \"12\"\n",
    "    }\n",
    "\n",
    "    date = []\n",
    "    for i in range(0, len(text)):\n",
    "        row = text[i].split(\" \")\n",
    "        row = row[7] + \" \" + row[6] + \" \" + row[8]\n",
    "        date.append(row)\n",
    "\n",
    "    datetime = [word.split(\" \") for word in date]\n",
    "\n",
    "    date = []\n",
    "    for element in datetime:\n",
    "        for key, value in root.items():\n",
    "            if key not in element:\n",
    "                continue\n",
    "\n",
    "            index = element.index(key)\n",
    "            element[index] = value\n",
    "        row = \"/\".join(element)\n",
    "        date.append(row)\n",
    "    \n",
    "    df_data = pd.DataFrame({\"New date\": date})\n",
    "    df_data[\"New date\"] = pd.to_datetime(df_data[\"New date\"])\n",
    "    dataframe = pd.concat([dataframe, df_data[\"New date\"]], axis=1)\n",
    "    \n",
    "    return dataframe\n",
    "\n",
    "df_data = feature_date(text=df_data[\"Date\"], dataframe=df_data)"
   ]
  },
  {
   "cell_type": "markdown",
   "metadata": {},
   "source": [
    "<div style=\"margin: 10px;\">\n",
    "    <h3 style=\"font-family: Arial\">\n",
    "        <font color=\"#088A68\">\n",
    "            3) Verified purchase\n",
    "        </font>\n",
    "    </h3>\n",
    "</div>"
   ]
  },
  {
   "cell_type": "code",
   "execution_count": 29,
   "metadata": {},
   "outputs": [],
   "source": [
    "df_data[\"Verified Purchase\"].replace(\n",
    "    to_replace=\"Verified Purchase\",\n",
    "    value=\"Yes\",\n",
    "    inplace=True\n",
    ")"
   ]
  },
  {
   "cell_type": "markdown",
   "metadata": {},
   "source": [
    "<div style=\"margin: 10px;\">\n",
    "    <h3 style=\"font-family: Arial\">\n",
    "        <font color=\"#088A68\">\n",
    "            4) Country\n",
    "        </font>\n",
    "    </h3>\n",
    "</div>"
   ]
  },
  {
   "cell_type": "code",
   "execution_count": 30,
   "metadata": {},
   "outputs": [],
   "source": [
    "def feature_country(text, dataframe) -> pd.core.frame.DataFrame:\n",
    "    \"\"\"\n",
    "    Function to extract the country from a text.\n",
    "\n",
    "    Parameters\n",
    "    ----------\n",
    "    text : str or pandas.core.series.Series\n",
    "        Text from which to extract the review's country.\n",
    "    \n",
    "    dataframe : pandas.core.frame.DataFrame\n",
    "        Dataframe that allows the extraction of the final results.\n",
    "\n",
    "    Returns\n",
    "    -------\n",
    "    pandas.core.frame.DataFrame\n",
    "        Dataframe that contains the final result.\n",
    "\n",
    "    \"\"\"\n",
    "    country = []\n",
    "    for i in range(0, len(text)):\n",
    "        row = text[i].split(\" \")\n",
    "        row = row[3] + \" \" + row[4]\n",
    "        country.append(row)\n",
    "    \n",
    "    df_data = pd.DataFrame({\"Country\": country})\n",
    "    dataframe = pd.concat([dataframe, df_data[\"Country\"]], axis=1)\n",
    "    \n",
    "    return dataframe\n",
    "\n",
    "df_data = feature_country(text=df_data[\"Date\"], dataframe=df_data)"
   ]
  },
  {
   "cell_type": "code",
   "execution_count": 31,
   "metadata": {},
   "outputs": [
    {
     "data": {
      "text/html": [
       "<div>\n",
       "<style scoped>\n",
       "    .dataframe tbody tr th:only-of-type {\n",
       "        vertical-align: middle;\n",
       "    }\n",
       "\n",
       "    .dataframe tbody tr th {\n",
       "        vertical-align: top;\n",
       "    }\n",
       "\n",
       "    .dataframe thead th {\n",
       "        text-align: right;\n",
       "    }\n",
       "</style>\n",
       "<table border=\"1\" class=\"dataframe\">\n",
       "  <thead>\n",
       "    <tr style=\"text-align: right;\">\n",
       "      <th></th>\n",
       "      <th>Pseudo</th>\n",
       "      <th>Title</th>\n",
       "      <th>Review</th>\n",
       "      <th>Rating</th>\n",
       "      <th>Verified Purchase</th>\n",
       "      <th>Date</th>\n",
       "      <th>Score</th>\n",
       "      <th>Compound</th>\n",
       "      <th>Sentiment</th>\n",
       "      <th>New rating</th>\n",
       "      <th>New date</th>\n",
       "      <th>Country</th>\n",
       "    </tr>\n",
       "  </thead>\n",
       "  <tbody>\n",
       "    <tr>\n",
       "      <th>0</th>\n",
       "      <td>Assault Kittens</td>\n",
       "      <td>really good option portability</td>\n",
       "      <td>impressive form factor really good balance siz...</td>\n",
       "      <td>4.5 out of 5 stars</td>\n",
       "      <td>Yes</td>\n",
       "      <td>Reviewed in the United States on June 18, 2021</td>\n",
       "      <td>{'neg': 0.014, 'neu': 0.736, 'pos': 0.249, 'co...</td>\n",
       "      <td>0.9941</td>\n",
       "      <td>positive</td>\n",
       "      <td>4.5</td>\n",
       "      <td>2021-06-18</td>\n",
       "      <td>United States</td>\n",
       "    </tr>\n",
       "    <tr>\n",
       "      <th>1</th>\n",
       "      <td>Kenneth Cramer</td>\n",
       "      <td>excellent portable gaming</td>\n",
       "      <td>write review anyone fence purchasing since rea...</td>\n",
       "      <td>5.0 out of 5 stars</td>\n",
       "      <td>Yes</td>\n",
       "      <td>Reviewed in the United States on July 7, 2021</td>\n",
       "      <td>{'neg': 0.016, 'neu': 0.88, 'pos': 0.104, 'com...</td>\n",
       "      <td>0.9921</td>\n",
       "      <td>positive</td>\n",
       "      <td>5.0</td>\n",
       "      <td>2021-07-07</td>\n",
       "      <td>United States</td>\n",
       "    </tr>\n",
       "    <tr>\n",
       "      <th>2</th>\n",
       "      <td>Assault Kittens</td>\n",
       "      <td>best inch world</td>\n",
       "      <td>sell macbook best decisions lifeif used macboo...</td>\n",
       "      <td>1.0 out of 5 stars</td>\n",
       "      <td>Yes</td>\n",
       "      <td>Reviewed in the United States on June 18, 2021</td>\n",
       "      <td>{'neg': 0.0, 'neu': 0.854, 'pos': 0.146, 'comp...</td>\n",
       "      <td>0.8779</td>\n",
       "      <td>positive</td>\n",
       "      <td>1.0</td>\n",
       "      <td>2021-06-18</td>\n",
       "      <td>United States</td>\n",
       "    </tr>\n",
       "  </tbody>\n",
       "</table>\n",
       "</div>"
      ],
      "text/plain": [
       "            Pseudo                           Title  \\\n",
       "0  Assault Kittens  really good option portability   \n",
       "1   Kenneth Cramer       excellent portable gaming   \n",
       "2  Assault Kittens                 best inch world   \n",
       "\n",
       "                                              Review              Rating  \\\n",
       "0  impressive form factor really good balance siz...  4.5 out of 5 stars   \n",
       "1  write review anyone fence purchasing since rea...  5.0 out of 5 stars   \n",
       "2  sell macbook best decisions lifeif used macboo...  1.0 out of 5 stars   \n",
       "\n",
       "  Verified Purchase                                            Date  \\\n",
       "0               Yes  Reviewed in the United States on June 18, 2021   \n",
       "1               Yes   Reviewed in the United States on July 7, 2021   \n",
       "2               Yes  Reviewed in the United States on June 18, 2021   \n",
       "\n",
       "                                               Score  Compound Sentiment  \\\n",
       "0  {'neg': 0.014, 'neu': 0.736, 'pos': 0.249, 'co...    0.9941  positive   \n",
       "1  {'neg': 0.016, 'neu': 0.88, 'pos': 0.104, 'com...    0.9921  positive   \n",
       "2  {'neg': 0.0, 'neu': 0.854, 'pos': 0.146, 'comp...    0.8779  positive   \n",
       "\n",
       "   New rating   New date        Country  \n",
       "0         4.5 2021-06-18  United States  \n",
       "1         5.0 2021-07-07  United States  \n",
       "2         1.0 2021-06-18  United States  "
      ]
     },
     "execution_count": 31,
     "metadata": {},
     "output_type": "execute_result"
    }
   ],
   "source": [
    "df_data.head(3)"
   ]
  },
  {
   "cell_type": "markdown",
   "metadata": {},
   "source": [
    "-------------------------------------------------------------------------------------------------------------------------------"
   ]
  },
  {
   "cell_type": "markdown",
   "metadata": {},
   "source": [
    "<div style=\"margin: 10px;\">\n",
    "    <h2 style=\"font-family: Arial\">\n",
    "        <font color=\"#084B8A\">\n",
    "            Data export\n",
    "        </font>\n",
    "    </h2>\n",
    "</div>"
   ]
  },
  {
   "cell_type": "code",
   "execution_count": 32,
   "metadata": {},
   "outputs": [],
   "source": [
    "df_data.to_csv(path_or_buf=\"amzn_customer_reviews.csv\", sep=\",\", index=False)"
   ]
  }
 ],
 "metadata": {
  "kernelspec": {
   "display_name": "Python 3",
   "language": "python",
   "name": "python3"
  },
  "language_info": {
   "codemirror_mode": {
    "name": "ipython",
    "version": 3
   },
   "file_extension": ".py",
   "mimetype": "text/x-python",
   "name": "python",
   "nbconvert_exporter": "python",
   "pygments_lexer": "ipython3",
   "version": "3.8.5"
  }
 },
 "nbformat": 4,
 "nbformat_minor": 5
}
